{
 "cells": [
  {
   "cell_type": "markdown",
   "id": "41d08e05-5560-4559-b9d4-e3c90f8a4607",
   "metadata": {},
   "source": [
    "# Data Exploration and Preparation"
   ]
  },
  {
   "cell_type": "markdown",
   "id": "e3d9e657-a7ee-430d-ab1d-39d614fcc673",
   "metadata": {},
   "source": [
    "### Importing Important Libraries and Modules"
   ]
  },
  {
   "cell_type": "code",
   "execution_count": 1,
   "id": "15697cd7-4b46-465f-b12f-c2b38edd33e2",
   "metadata": {},
   "outputs": [
    {
     "name": "stderr",
     "output_type": "stream",
     "text": [
      "C:\\ProgramData\\anaconda3\\envs\\pubMed\\lib\\site-packages\\transformers\\utils\\generic.py:311: UserWarning: torch.utils._pytree._register_pytree_node is deprecated. Please use torch.utils._pytree.register_pytree_node instead.\n",
      "  torch.utils._pytree._register_pytree_node(\n",
      "C:\\ProgramData\\anaconda3\\envs\\pubMed\\lib\\site-packages\\transformers\\utils\\generic.py:311: UserWarning: torch.utils._pytree._register_pytree_node is deprecated. Please use torch.utils._pytree.register_pytree_node instead.\n",
      "  torch.utils._pytree._register_pytree_node(\n"
     ]
    }
   ],
   "source": [
    "from datasets import load_dataset, DatasetDict, Dataset\n",
    "import spacy\n",
    "import re\n",
    "import os\n",
    "import pandas as pd\n",
    "import streamlit as st\n",
    "from flask import Flask, request, jsonify, render_template\n",
    "from werkzeug.utils import secure_filename\n",
    "from transformers import T5ForConditionalGeneration, T5Tokenizer, Trainer, TrainingArguments\n",
    "import json\n",
    "nlp = spacy.load(\"en_core_web_sm\")"
   ]
  },
  {
   "cell_type": "markdown",
   "id": "b2065dd9-bc7f-414d-ab11-03df8702ff8f",
   "metadata": {},
   "source": [
    "## Loading the PubMed dataset for summarization"
   ]
  },
  {
   "cell_type": "code",
   "execution_count": 3,
   "id": "19c4833b-6f54-4acf-8984-3861c7a72da5",
   "metadata": {},
   "outputs": [
    {
     "name": "stderr",
     "output_type": "stream",
     "text": [
      "Using the latest cached version of the module from C:\\Users\\Crown Tech\\.cache\\huggingface\\modules\\datasets_modules\\datasets\\ccdv--pubmed-summarization\\f765ec606c790e8c5694b226814a13f1974ba4ea98280989edaffb152ded5e2b (last modified on Sat Jun 22 13:13:24 2024) since it couldn't be found locally at ccdv/pubmed-summarization, or remotely on the Hugging Face Hub.\n"
     ]
    }
   ],
   "source": [
    "\n",
    "dataSet = load_dataset(\"ccdv/pubmed-summarization\", trust_remote_code=True)\n",
    "\n"
   ]
  },
  {
   "cell_type": "markdown",
   "id": "6afdda1e-f249-49f3-a4d6-a24fbc88d4d6",
   "metadata": {},
   "source": [
    "## Exploring the dataset"
   ]
  },
  {
   "cell_type": "code",
   "execution_count": 4,
   "id": "de1bddff-981a-4b1d-899f-775529494889",
   "metadata": {},
   "outputs": [
    {
     "name": "stdout",
     "output_type": "stream",
     "text": [
      "DatasetDict({\n",
      "    train: Dataset({\n",
      "        features: ['article', 'abstract'],\n",
      "        num_rows: 119924\n",
      "    })\n",
      "    validation: Dataset({\n",
      "        features: ['article', 'abstract'],\n",
      "        num_rows: 6633\n",
      "    })\n",
      "    test: Dataset({\n",
      "        features: ['article', 'abstract'],\n",
      "        num_rows: 6658\n",
      "    })\n",
      "})\n"
     ]
    }
   ],
   "source": [
    "print(dataSet)"
   ]
  },
  {
   "cell_type": "code",
   "execution_count": 9,
   "id": "1d0ca5e6-08be-4127-98fd-385dd5793516",
   "metadata": {
    "scrolled": true
   },
   "outputs": [
    {
     "name": "stdout",
     "output_type": "stream",
     "text": [
      "Artical Part is...........\n",
      "diabetes mellitus is a growing public health concern , presently affecting 25.8 million or 8.3% of the american population   and nearly 387 million people worldwide . \n",
      " while the availability of novel drugs , techniques , and surgical intervention has improved the survival rate of individuals with diabetes , the prevalence of diabetes is still rising in the united states , with the number of people with diabetes projected to double by 2025 . \n",
      " t2d is a result of chronic insulin resistance and loss of -cell mass and function . \n",
      " both in experimental animals and people , obesity is a leading pathogenic factor for developing insulin resistance , which is always associated with the impairment in energy metabolism , causing increased intracellular fat content in skeletal muscle , liver , fat , and pancreatic islets . \n",
      " constant insulin resistance will progress to t2d when -cells are unable to secrete adequate amount of insulin to compensate for decreased insulin sensitivity , which is largely due to insulin secretory dysfunction and significant loss of functional -cells [ 48 ] . \n",
      " indeed , those individuals with t2d always manifest increased -cell apoptosis and reduced -cell mass [ 6 , 7 , 9 ] . as such , the search for novel agents that simultaneously promote insulin sensitivity and -cell survival may provide a more effective strategy to prevent the onset of diabetes . \n",
      " recently , naturally occurring polyphenolic compounds have been the focal point of medicinal research interest due to their pharmacological implications associated with human disease with considerable attention devoted to managing diabetes [ 11 , 12 ] . \n",
      " polyphenols exist naturally as secondary plant metabolites and are the largest source of human dietary antioxidants , with a typical daily intake of roughly 1  g / day . \n",
      " kaempferol ( 3,5,7-trihydroxy-2-(4-hydroxyphenyl)-4h-1-benzopyran-4-one ) is a flavonol , of low molecular weight ( 286.2  g / mol ) , that has been identified in many plants used in traditional medicine , including equisetum spp . \n",
      " , sophora japonica , and ginkgo biloba , and edible plants , including beans , broccoli , cabbage , gooseberries , grapes , kale , strawberries , tea , and tomatoes [ 15 , 16 ] \n",
      " . dietary intake of kaempferol containing foods has been epidemiologically associated with a reduced risk of certain cancers and cardiovascular diseases . \n",
      " it has been reported that kaempferol has antioxidative , antimicrobial , anti - inflammatory , lipolytic , and anticancer [ 20 , 21 ] effects . however , to date , the studies regarding its effect on the pathogenesis of diabetes are very limited . \n",
      " we recently demonstrated that kaempferol treatment prevented apoptosis and improved insulin biosynthesis and secretion in -cells and human islets exposed to chronic hyperlipidemia . \n",
      " past studies have established that sustained hyperlipidemia in obese individuals plays an important role in causing -cell apoptosis and dysfunction , thereby contributing to the deterioration of glycemic control and the overt development of t2d [ 2224 ] . \n",
      " this study was conducted to investigate whether long - term dietary intake of kaempferol can promote metabolic homeostasis and thereby prevent diabetic pathogenesis . \n",
      " we show here that dietary intake of kaempferol for 5 months ( mo ) improved insulin sensitivity and glucose tolerances , which were associated with increased glut4 and ampk expression in muscle and adipose tissues in middle - aged mice fed a high - fat ( hf ) diet . in vitro , kaempferol increased lipolysis and restored chronic high fatty acid - impaired glucose uptake and glycogen synthesis in skeletal muscle cells , which were associated with improved ampk activity and glut4 expression . \n",
      " in addition , dietary kaempferol treatment preserved functional pancreatic -cell mass and prevented hyperglycemia and glucose intolerance in stz - induced diabetic mice . \n",
      " male ( 10-month - old ) c57bl/6j mice ( nci , nih ) were individually housed in an animal room maintained on a 12-hour light / dark cycle under constant temperature ( 2225c ) with ad libitum access to food and water . \n",
      " after 1  week of environment acclimation , we conducted the following two animal studies . the institutional animal care and use committee at virginia tech approved the animal study protocols . \n",
      " mice were divided into 4 groups ( n = 12 mice / group ) with blood glucose and body weight balanced and then fed a standard chow ( sd ) diet , with 10% of calories derived from fat , a hf diet ( research diets inc . , \n",
      " new brunswick , nj ) with 58% of calories from fat , or hf diet supplemented with kaempferol ( 0.01% or 0.05% ) for  5  mo . body weight and food intake were recorded weekly throughout the study . to assess fasting blood glucose , \n",
      " mice were fasted for 12  h , and blood glucose was measured in tail vein blood samples using a glucometer ( kroger , cincinnati , oh ) . after 5  mo of dietary treatment , body composition was evaluated using an lf-90 instrument ( bruker optics , inc . , \n",
      " the lf-90 body composition instrument is based on time domain nuclear magnetic resonance ( td - nmr ) technology , which provides an in vivo measurement of lean tissue , body fat , and body fluid in live mice without anesthesia . following this procedure , \n",
      " glucose and insulin tolerance tests were performed . for the glucose tolerance tests ( gtt ) \n",
      " , mice were fasted for 12  h and injected intraperitoneally ( ip ) with a single bolus of glucose ( 2  g / kg bw ) . \n",
      " glucose levels were measured at time points of 0 , 15 , 30 , 60 , and 120  min after glucose administration . for the insulin tolerance tests ( itt ) , \n",
      " mice were injected ip with insulin ( 0.75 units / kg bw ) , and blood glucose levels were measured at 0 , 15 , 30 , 60 , and 120  min after insulin administration . \n",
      " area under the curve ( auc ) was calculated using the trapezoidal rule . at the end of the study , \n",
      " the mice were fasted overnight and euthanized , immediately followed by the collection of blood samples . \n",
      " fasting plasma total cholesterol , hdl - cholesterol , and triacylglycerol were measured by enzymatic methods using a pointer 180 analyzer ( pointe scientific , canton , mi ) as described previously . \n",
      " plasma insulin levels were measured using a mouse insulin elisa kit ( mercodia , inc . , \n",
      " blood hba1c levels were determined using an assay kit ( henry schein , inc . , \n",
      " mice were sacrificed and extensor digitorum longus muscle and abdominal adipose tissues were collected , snap - frozen in liquid nitrogen , and then stored at 80c for the western blot analyses . in a separate experiment , mice were divided into 3 groups ( n = 8 mice / group ) and fed a sd diet or sd diet containing kaempferol ( 0.01% or 0.05% ) for 3  mo . \n",
      " fasting and nonfasting blood glucose levels were measured biweekly . at the end of 3  mo , gtt and itt \n",
      " 10-month - old male mice ( nci , nih ) were divided into 3 groups ( n = 10 mice / group ) with initial fasting blood glucose and body weights balanced among groups . \n",
      " mice were then fed a sd diet , a hf diet ( 58  kcal% fat ) , or hf diet containing 0.05% kaempferol . \n",
      " after 6  weeks of dietary kaempferol supplementation , gtt , itt , and body composition were evaluated as described above . \n",
      " after this procedure , mice received ip injections of stz dissolved in 0.1  m cold sterile sodium citrate buffer ( ph 4.5 ) at 45  mg / kg daily for 3 consecutive days . \n",
      " body weight , food intake , and nonfasting and fasting blood glucose were measured biweekly throughout the study . \n",
      " , mice were euthanized , and the pancreata were dissected , weighed , and then fixed in 4% ( vol / vol ) formaldehyde buffer ( ph 7.2 ) . \n",
      " a series of tissue sections ( 5  m thickness at 200  m interval ) were prepared , mounted on glass slides , and immunofluorescently stained with an insulin antibody and fitc - conjugated secondary antibody ( abcam , cambridge , ma ) for determining -cell mass . \n",
      " pancreatic -cell mass was calculated by dividing the area of insulin - positive cells by the total area of pancreatic tissue and multiplied by the pancreas weight [ 25 , 26 ] . \n",
      " insulin was then extracted from pancreas homogenates with acid - ethanol [ 75% ethanol , 25% acetic acid ( 25%  vol / vol ) ] overnight at 4c . \n",
      " the homogenates were centrifuged ( 10  min , 2,000  g , 4c ) and the supernatants were neutralized with tris buffer . \n",
      " pancreatic insulin content was measured by elisa and then normalized to the protein concentration in the same sample . \n",
      " the c2c12 mouse cells ( american type culture collection , manassas , va ) were grown at 37c and 5% co2 in dulbecco 's modified eagle 's medium ( dmem ) , supplemented with penicillin ( 50  iu / ml ) , streptomycin ( 50  g / ml ) , and 10% fetal bovine serum ( fbs ) . \n",
      " the cells were grown to 75% confluence and the growth medium was then switched to dmem supplemented with 2% horse serum and penicillin ( 50  iu / ml ) and streptomycin ( 50  g / ml ) for differentiation . \n",
      " c2c12 myoblasts were grown to ~80% confluence in dmem and then differentiated for 5 days in dmem supplemented with 2% horse serum . on day 5 , the myotubes were treated for 24  h with 10  m kaempferol or vehicle ( dmso ) along with a mixture of fatty acids or vehicle ( bsa ) . \n",
      " the fatty acid mixture contained a 2  :  1 ratio of palmitate to oleate for a final concentration of 0.4  mm complexed with 0.4% bsa in serum - free , low glucose dmem . \n",
      " following the fatty acid and kaempferol treatment , glucose uptake was assessed in krebs - ringer hepes buffer ( in mm : 136 nacl , 4.7 kcl , 1.25 mgso4 , 1.2 cacl , and 20 hepes , ph 7.4 ) with the addition of 10  m 2-deoxyglucose and 1.25  uci / ml 2-deoxy-[3h]glucose . \n",
      " after 15  min of incubation , plates were placed on ice , washed three times with ice - cold pbs , and harvested in 400  l of 0.2  m naoh for cell lysis . \n",
      " c2c12 myotubes were treated for 24  h with 10  m kaempferol or vehicle ( dmso ) along with 0.4  mm fatty acid ( fa ) cocktail or bsa as stated above . \n",
      " after 24  h with fa and kaempferol treatment , cells were further incubated with 1.25  uci / mlc glucose ( american radiolabeled chemicals , saint louis , mo ) in the presence or absence of insulin ( 100  nm ; \n",
      " eli lilly , indianapolis , in ) for 3  h. following this treatment , cells were rinsed twice with pbs at 4c followed by solubilization by adding 250  l of 30% koh . \n",
      " the samples were then mixed with 35  l of 60  mg / ml glycogen ( sigma - aldrich , st . \n",
      " louis , mo ) in distilled water and heated at 80c for 20  min . \n",
      " following centrifugation at 4c ( 10,000  rpm ) for 20  min , the pellet was collected and washed with 70% ethanol and then resuspended in 500  l distilled water . \n",
      " after 20  min of shaking , the glycogen precipitate was counted for the presence of c by liquid scintillation ( ls 6500 , beckman coulter , brea , ca ) . \n",
      " glycogen synthesis was calculated based on specific activity and was expressed relative to protein content . \n",
      " c2c12 muscle cells were preincubated with kaempferol or vehicle ( dmso ) for 30  min followed by addition of 20  mm glucose and 0.5  mm palmitate for 24  h. glycerol released into the medium was then measured by using a free glycerol determination kit ( sigma - aldrich , st . \n",
      " animal tissues or cultured cells were homogenized in lysis buffer ( 50  mm hepes , 0.1%  ( v / v ) triton x-100 , 1  mm pmsf , 10  mm e-64 , 10  mm pepstatin a , 10  mm tlck , 100  mm leupeptin , ph 7.4 ) . \n",
      " supernatants of cultured muscle cell or mouse tissue lysates were collected , and protein content was measured using an assay kit . \n",
      " equal amounts of protein extracts from mouse tissues or cells were subjected to western blot analysis as described previously . \n",
      " nitrocellulose membranes were probed with antibody against glut4 , ampk , or phospho - ampk ( cell signaling , danvers , ma ) . \n",
      " the immunoreactive proteins were detected by chemiluminescence ( thermo fischer , rockford , il ) . \n",
      " nitrocellulose membranes were then stripped and reprobed with -actin ( animal tissues ) or ampk ( culture cells ) . \n",
      " the protein bands were digitally imaged for densitometric quantitation with a software program ( image j , nih ) . \n",
      " all proteins levels were normalized to those of -actin or total ampk , where applicable , from the same samples . \n",
      " data were analyzed with one - way anova , using sigmaplot software program , and are expressed as mean  standard error ( se ) or mean  standard error of mean ( sem ) , where applicable . \n",
      " in this study , we tested the metabolic effects of the long - term dietary supplementation of kaempferol ( 0.01% or 0.05% in the diet ) in middle - aged mice fed a hf diet . \n",
      " the hf diet decreased the accumulative average food intake , but kaempferol supplementation for 5  mo did not alter the food consumption compared with hf diet - fed mice ( figure 1(a ) ) . \n",
      " however , dietary intake of 0.05% kaempferol significantly ameliorated hf diet - induced body weight gain ( figure 1(b ) ) . \n",
      " consistently , mice fed the hf diet developed obesity as determined by measuring their relative percentage of fat ( figure 1(c ) ) and muscle mass ( figure 1(d ) ) . \n",
      " however , kaempferol treatment had no significant effect on adiposity of obese mice . fasting blood levels of cholesterol ( figure 1(e ) ) , ldl - cholesterol ( figure 1(f ) ) , and triglyceride ( figure 1(g ) ) were increased in hf diet - fed obese mice , which were significantly reduced by dietary intake of kaempferol . however , total cholesterol levels in kaempferol - fed mice were still significantly higher as compared to chow diet - fed mice . \n",
      " fasting plasma hdl - cholesterol concentrations were increased by hf feeding but were not further altered by kaempferol treatment ( figure 1(h ) ) . in another study to determine whether kaempferol also improves metabolism and health of sd diet - fed older adult mice , we found that dietary intake of either 0.01% kaempferol ( k1 ) or 0.05% kaempferol ( k2 ) for 3  mo had no effects on body weight gain ( 5.9  0.5 , 6.1  0.4 , and 6.0  0.6  g for control , k1 , and k2 group , resp . ) , food intake ( 4.25 , 4.27 , and 4.23  g / d / mouse ) , fasting ( 136.4  4.1 , 131.6  3.4 , and 127.9  5.8  mg / dl ) and nonfasting ( 185.4  11.1 , 180.5  5.5 , and 174.4  12.2 ) blood glucose levels , glucose tolerance ( 32672  1653 , 31411  1582 , and 31078  1634 auc ) , and insulin sensitivity ( 11073  1065 , 10897  9887 , and 10574  1141 auc ) . \n",
      " after 2  mo of hf diet consumption , mice displayed hyperglycemia throughout this study , as shown by persistently over 50% higher circulating glucose levels as compared with mice that consumed the sd diet . \n",
      " kaempferol supplementation at this point nonsignificantly reduced the hf diet - induced rise in blood glucose . \n",
      " after 3  mo , however , mice fed hf diet supplemented with kaempferol exhibited significantly lower blood glucose levels than those in hf - fed mice ; after 5  mo of treatment , mice fed kaempferol - supplemented diet still had significantly lower blood glucose levels ( 140  10.5  mg / dl ) as compared to hf diet - fed mice ( 197  10.5  mg / dl ) , which were almost reduced to the levels shown in sd - fed mice ( 123.0  4.8  mg / dl ) ( figure 2(a ) ) . \n",
      " data showed that kaempferol ( 0.05% in the diet ) nonsignificantly improved glucose tolerance as demonstrated by lower blood glucose levels at 30 and 60  min ( figure 2(b ) ) as well as reduced auc ( figure 2(c ) ) following ip glucose injection compared to hf - fed mice . \n",
      " consistently , blood levels of hba1c , which reflect an average of blood glucose over a period of two to three mo , were significantly lower in kaempferol - treated mice as compared to those in hf diet - fed mice ( figure 2(d ) ) . \n",
      " insulin resistance is important to the etiology of t2d and usually occurs in obesity . to determine if dietary intake of kaempferol improves insulin sensitivity in obese mice , we performed an ip itt . \n",
      " however , dietary provision of kaempferol as low as 0.01% significantly improved plasma glucose levels ( figure 2(e ) ) and the auc ( figure 2(f ) ) postinsulin injection in hf diet - fed mice , suggesting that kaempferol increases insulin sensitivity . \n",
      " we observed that fasting plasma insulin levels in hf mice were about 6-fold of those in mice that received the sd diet , suggesting that obese mice are insulin resistant ( figure 2(g ) ) . \n",
      " however , plasma insulin levels in 0.05% kaempferol - treated mice were more than 50% lower as compared with hf - fed obese mice ( figure 2(g ) ) \n",
      " . these data strongly suggest that long - term kaempferol supplementation maintained whole body insulin sensitivity in hf diet - induced obese mice . \n",
      " insulin resistance in adipose tissue and skeletal muscle , the primary site of glucose and fatty acid utilization , plays a major role in the development of hf diet - induced t2d . to further determine the molecular events that are associated with improved insulin sensitivity by kaempferol treatment , we measured the expression of ampk and glut4 in skeletal muscle and adipose tissues , which are two critical molecules regulating glucose uptake [ 30 , 31 ] . \n",
      " consistent with impaired peripheral insulin sensitivity , the expression of ampk and glut4 proteins in both skeletal muscle ( figures 3(a)3(c ) ) and adipose tissue ( figures 3(d)3(f ) ) from hf diet - fed mice was significantly attenuated as compared to the control mice . however , treatment with kaempferol completely reversed these detrimental effects caused by feeding the mice with hf diet ( figures 3(a)3(f ) ) . \n",
      " these results further confirmed that long - term intake of kaempferol protects against developing insulin resistance in hf diet - induced obese mice . \n",
      " as skeletal muscle is the major site for fuel metabolism , and obesity and insulin resistance are always accompanied with the impairment in energy metabolism , a leading pathogenic factor for t2d , we performed a series of in vitro assays to determine whether kaempferol has direct beneficial effects on glucose metabolism . in that regard , we cultured skeletal muscle cells with or without kaempferol in the presence of palmitate and oleic acid . \n",
      " we found that exposure of c2c12 myotubes to high fatty acids for 24  h impaired insulin - induced glucose uptake ( figure 4(a ) ) and glycogen synthesis ( figure 4(b ) ) . \n",
      " however , these detrimental effects were partially reversed by treatment with 10  m kaempferol ( figures 4(a ) and 4(b ) ) . to further characterize metabolic and insulin sensitizing effects of kaempferol \n",
      " , we cultured skeletal muscle cells with or without kaempferol in the presence of high glucose ( 20  mm ) and saturated fatty acid palmitate ( 0.5  mm ) , an in vitro environment that is frequently used to simulate diabetic condition in vivo . \n",
      " the results showed that kaempferol at physiologically relevant concentrations significantly improved lipolysis ( figure 5(a ) ) and reversed high fatty acid - impaired ampk activity ( figure 5(b ) ) and glut4 protein expression ( figure 5(c ) ) , a downstream target of activated ampk . while peripheral insulin resistance is common during obesity in rodents and people , its progression to t2d is largely due to insulin secretory dysfunction and significant apoptosis of functional -cells [ 48 ] , leading to an inability to compensate for insulin resistance . \n",
      " past studies have established that sustained hyperlipidemia in obese individuals plays an important role in causing -cell apoptosis and dysfunction , thereby contributing to the deterioration of glycemic control and the overt development of t2d [ 2224 ] . \n",
      " we recently found that kaempferol treatment prevented apoptosis of cultured pancreatic -cells exposed to chronic hyperlipidemic condition . \n",
      " we therefore further assessed whether kaempferol can also protect pancreatic -cell function , thereby preventing diabetes by using a t2d mouse model that was generated through a combination of hf diet feeding and three consecutive injections of low doses of stz . regarding this , c57bl/6 mice ( male , 10-month - old ) were fed a sd diet , a hf diet , or hf diet containing 0.05% kaempferol . \n",
      " consistent with the observations from the animal study described above , treatment with kaempferol for 6  weeks had no effect on body weight gain , food intake , fasting blood glucose levels , glucose intolerance , or insulin resistance of mice fed the hf diet ( data not shown ) . \n",
      " after 6  weeks of dietary treatment , stz ( 40  mg / kg bw ) was administrated ( ip ) for 3 consecutive days to induce diabetes mediated by a destruction of islet -cells in mice . \n",
      " our data showed that dietary ingestion of kaempferol significantly mitigated stz - induced hyperglycemia in diabetic mice as determined by measuring fasting ( figure 6(a ) ) and nonfasting ( figure 6(b ) ) blood glucose levels . consistently , kaempferol ameliorated the loss of body weight secondary to the development of diabetes   ( data not shown ) . to determine \n",
      " if the improved glycemic control in mice fed the kaempferol - supplemented diet is the result of preserved islet function , we measured insulin levels in the plasma of the control and kaempferol - fed mice . \n",
      " as shown in figure 6(c ) , plasma insulin levels in mice fed diet containing kaempferol were significantly greater as compared to those in nontreated diabetic mice , suggesting that kaempferol may ameliorate hyperglycemia primarily via preserving islet -cell function . \n",
      " since stz causes diabetes by destroying islet -cells , we then examined whether kaempferol treatment preserved -cell mass in diabetic mice by using an immunohistochemical technique . \n",
      " we observed that hf diet - fed mice exhibited greater pancreas weight as compared with the control mice ( figure 7(a ) ) , which was not modulated by kaempferol supplementation ( figure 7(a ) ) . \n",
      " however , stz administration caused severe destruction of pancreatic -cells as determined by evaluating the area of insulin positive cells ( figure 7(b ) ) and islet mass ( figure 7(c ) ) , which consequently led to the reduction of pancreatic insulin content by nearly 80% ( figure 7(d ) ) . \n",
      " however , dietary provision of kaempferol partially preserved islet -cell mass ( figures 7(b ) and 7(c ) ) and insulin content ( figure 7(d ) ) in diabetic mice . \n",
      " it has been reported that kaempferol elicits a number of health benefits , including antioxidative [ 17 , 37 ] , anti - inflammatory [ 18 , 38 ] , antihypertensive [ 39 , 40 ] , lipolytic [ 19 , 41 ] , and anticarcinogenic effects [ 20 , 21 , 42 ] . \n",
      " however , studies on whether this compound possesses antidiabetic properties are very limited . in this study , we tested the antidiabetic potential of this natural compound by using two mouse models and in vitro studies . \n",
      " it is worthy to note that , unlike many metabolic studies that used young adult mice , we used near middle - aged mice , which may be more clinically relevant , as t2d in humans often occurs during middle and late ages . \n",
      " we provide evidence that long - term dietary intake of kaempferol promoted metabolic homeostasis with the improved fasting blood glucose , hba1c levels , insulin sensitivity , and glucose tolerance in hf diet - induced obese mice , which was associated with increased fuel metabolism , ampk activity , and glut4 expression in skeletal muscle cells . \n",
      " further , dietary kaempferol also ameliorates hyperglycemia in stz - induced diabetic mice by preserving functional -cell mass . \n",
      " importantly , these beneficial metabolic effects , elicited by dietary intake of kaempferol , are not due to alteration in food intake . given that both insulin resistance in peripheral tissues and progressive -cell loss and dysfunction are key components in the pathogenesis of t2d [ 48 ] , kaempferol could be a low - cost and safe natural compound to promote energy metabolism and maintain glucose homeostasis by targeting these two defects . \n",
      " it is well established that obesity is an important risk factor for t2d [ 43 , 44 ] . \n",
      " therefore , hf diets are commonly used as a strategy to induce obesity in animal models , leading to the development of metabolic disorders including hyperlipidemia , impaired insulin sensitivity and glucose tolerance , and elevated blood insulin and glucose [ 4548 ] . \n",
      " consistently , our data showed that consumption of the hf diet induced obesity and elevated plasma concentrations of triglycerides and cholesterol that are typical of obesity , which however were ameliorated in mice fed a hf diet containing kaempferol . given that obesity is a leading pathogenic factor for developing insulin resistance and subsequent glucose intolerance \n",
      " , the improved insulin sensitivity and glucose homeostasis by kaempferol supplementation could be partially due to the secondary effects whereby long - term intake of kaempferol ameliorated obesity in mice fed a hf diet . while it is presently unclear how kaempferol affects lipid metabolism and body weight gain , previous studies demonstrated that several structurally similar flavonoids inhibit lipid absorption and lipogenesis [ 5052 ] . because food intake was not affected by long - term kaempferol supplementation , the decrease in fasting plasma cholesterol and triglycerides in the hf - fed mice could be caused by the regulation of the intestinal digestion and absorption of lipids and/or lipogenesis , which needs further investigation . \n",
      " as kaempferol treatment did not alter calorie intake in mice during the course of this study , it is also possible that the reduced body fat mass as well as body weight in kaempferol - fed mice is due to its effect on energy expenditure , given that obesity results from energy imbalance . \n",
      " several lines of evidence have shown that pharmacological activation of ampk improves blood glucose homeostasis and lipid profile in insulin - resistant rodents . \n",
      " ampk is an energy sensing molecule highly conserved from yeast to all animals , which is increasingly recognized as a master regulator of whole body energy homeostasis . \n",
      " ampk is a heterotrimeric protein kinase composed of a catalytic subunit ( ampk ) and two regulatory subunits (  and  ) that sense low cellular energy levels by monitoring changes in the amp  :  atp ratio . \n",
      " amp binding to the  subunit induces a conformational change that allows ampk to be phosphorylated at its threonine residue ( thr 172 ) by the ampk - activating protein kinase ( lkb1 ) . at the whole body level \n",
      " , ampk integrates stress responses , nutrient and hormonal signals to the control of food intake , energy expenditure , and substrate utilization . at the cellular level , \n",
      " activated ampk inhibits hepatic gluconeogenesis , promotes fatty acid oxidation , and regulates mitochondrial biogenesis . \n",
      " in addition , activation of ampk increases glut4 expression and membrane translocation in skeletal muscle , thereby improving glucose uptake . \n",
      " consistent with the impaired insulin sensitivity in hf - fed obese mice , we found that the protein levels of ampk and glut4 in skeletal muscle and adipose tissue from these animals were also considerably attenuated . \n",
      " however , these detrimental effects were completely reversed by supplementation of 0.05% kaempferol in the hf diet . \n",
      " these results suggest that kaempferol may increase peripheral insulin sensitivity via the ampk - mediated pathway . \n",
      " both in experimental animals and people , obesity - related insulin resistance is always associated with the dysfunctions of several metabolic pathways including reduced lipolysis , fatty acid oxidation , glucose uptake , and glycogen synthesis coupled with increased glucose output . \n",
      " specifically , it is believed that elevated intramyocellular lipid accumulation coupled with diminished lipolysis and mitochondrial lipid oxidation play a role in the development of insulin resistance in skeletal muscle . \n",
      " consistently , it was found that inducing lipolysis and fatty acid oxidation in muscle cells protects against lipotoxicity - induced insulin resistance [ 58 , 59 ] . in the present study \n",
      " , we further showed that kaempferol treatment as low as 1  m augmented lipolysis and reversed chronic hyperlipidemia - impaired glucose uptake , glut4 expression , ampk activity , and glycogenesis in skeletal muscle cells , which provides further evidence at cellular levels that kaempferol might be an insulin sensitizing molecule by promoting energy metabolism . \n",
      " however , it is presently unclear how kaempferol exerts these beneficial effects in skeletal muscle cells . \n",
      " kaempferol has been shown to possess antioxidant property . while we found that pharmacological doses of kaempferol ( 1050  m ) showed significant free radical scavenging activity as evaluated by using an oxygen radical absorbance assay , it had no such effect at 1  m \n",
      " . therefore , kaempferol promotion of skeletal muscle cell function may not be due to its potential antioxidant effect . \n",
      " we further explored whether kaempferol directly protects pancreatic -cell function in vivo by using a nongenetic mouse model of t2d , which was generated by employing a combination of feeding a hf diet and administering three mild doses ( 40  mg / kg ) of stz that does not cause diabetes in chow - fed mice , as demonstrated in our recent study . \n",
      " this nongenetic diabetic mouse model manifests the metabolic characteristics of human t2d , including moderate levels of hyperglycemia , hyperlipidemia , insulin resistance , impaired insulin secretion , and reduced -cell mass . \n",
      " the results in the present study show that kaempferol partially preserved -cell mass in stz - induced diabetic mice , which could be primarily attributable to its antidiabetic action , given that diabetes was induced before kaempferol caused changes in body weight , adiposity , or other metabolic parameters . \n",
      " we speculate that kaempferol treatment may protect against -cell apoptosis , thereby improving islet mass , given our recent observations that kaempferol promotes viability of isolated pancreatic islets exposed to chronic hyperglycemia   or hyperlipidemia . in summary , we provide evidence that long - term dietary supplementation of kaempferol prevents hf diet - induced metabolic disorders in middle - aged obese mice . on cellular and molecular levels \n",
      " , kaempferol improves glycolysis , glucose uptake , glycogen synthesis , ampk activity , and glut4 expression in skeletal muscle . \n",
      " in addition , dietary supplementation of kaempferol significantly ameliorated hyperglycemia and preserved functional islet mass in old adult obese diabetic mice . \n",
      " these results indicate that phytonutrient kaempferol may be used as a dietary supplement to prevent metabolic disorders that are associated with obesity and aging .\n",
      "\n",
      "\n",
      "-----------------------------------------------------------------------------------------------------------------------------------------------\n",
      "\n",
      "\n",
      "Abstract Part is...........\n",
      "insulin resistance and a progressive decline in functional -cell mass are hallmarks of developing type 2 diabetes ( t2d ) . \n",
      " thus , searching for natural , low - cost compounds to target these two defects could be a promising strategy to prevent the pathogenesis of t2d . here \n",
      " , we show that dietary intake of flavonol kaempferol ( 0.05% in the diet ) significantly ameliorated hyperglycemia , hyperinsulinemia , and circulating lipid profile , which were associated with the improved peripheral insulin sensitivity in middle - aged obese mice fed a high - fat ( hf ) diet . \n",
      " kaempferol treatment reversed hf diet impaired glucose transport-4 ( glut4 ) and amp - dependent protein kinase ( ampk ) expression in both muscle and adipose tissues from obese mice . in vitro , kaempferol increased lipolysis and prevented high fatty acid - impaired glucose uptake , glycogen synthesis , ampk activity , and glut4 expression in skeletal muscle cells . using another mouse model of t2d generated by hf diet feeding and low doses of streptozotocin injection , we found that kaempferol treatment significantly improved hyperglycemia , glucose tolerance , and blood insulin levels in obese diabetic mice , which are associated with the improved islet -cell mass . \n",
      " these results demonstrate that kaempferol may be a naturally occurring anti - diabetic agent by improving peripheral insulin sensitivity and protecting against pancreatic -cell dysfunction .\n"
     ]
    }
   ],
   "source": [
    "anyDataInDataSet = dataSet['validation'][55]\n",
    "print(\"Artical Part is...........\"   )\n",
    "print(anyDataInDataSet['article']  )\n",
    "print(\"\")\n",
    "print(\"\")\n",
    "print(\"-----------------------------------------------------------------------------------------------------------------------------------------------\")\n",
    "print(\"\")\n",
    "print(\"\")\n",
    "\n",
    "print(\"Abstract Part is...........\"   )\n",
    "print(anyDataInDataSet['abstract']  )\n",
    "\n",
    "\n"
   ]
  },
  {
   "cell_type": "markdown",
   "id": "77a2a16e-eb96-42f5-b5fd-96892364e635",
   "metadata": {},
   "source": [
    "### Contents And Structure Of the Dataset"
   ]
  },
  {
   "cell_type": "markdown",
   "id": "bb50b82e-442b-4982-8ad6-7d0cf95f0312",
   "metadata": {},
   "source": [
    "- The dataset **ccdv/pubmed-summarization** has three splits **train**, **validation** and **test** Dataset.\n",
    "- DataSet has two features **['article', 'abstract']**\n",
    "- Train Dataset is higly content in data.\n",
    "- Data is already in smallcase letters.\n",
    "- Data contains special Chars.\n",
    "- Data contains URLs."
   ]
  },
  {
   "cell_type": "markdown",
   "id": "517feb50-a80a-4e29-a904-986d2e912e95",
   "metadata": {},
   "source": [
    "## Preprocessing and Data Cleaning (Only Run One Time As the Initial Cleaned Data is Stored On Pc)"
   ]
  },
  {
   "cell_type": "code",
   "execution_count": 5,
   "id": "7e1ed653-ff4f-472d-8b47-9ea62276289d",
   "metadata": {},
   "outputs": [
    {
     "name": "stdout",
     "output_type": "stream",
     "text": [
      "Cleaned dataset saved to cleaned_dataset.json\n"
     ]
    }
   ],
   "source": [
    "# not doing tokenization here as we have a huge dataset we can do tokenization on a small set \n",
    "\n",
    "def initialCleaningOfData(text):\n",
    "    # remove extra spaces, newlines, and specified special characters\n",
    "    text = re.sub(r'\\s+', ' ', text)  # remove extra spaces\n",
    "    text = re.sub(r'\\n', ' ', text)   # remove newlines\n",
    "    text = re.sub(r'[^\\w\\s]', '', text)  # remove all non-word and non-space characters\n",
    "    text = re.sub(r'http\\S+|www.\\S+', '', text)  # remove URLs\n",
    "    text = re.sub(r'\\S+@\\S+', '', text)  # remove email addresses\n",
    "    text = re.sub(r'\\d+', '', text)  # remove numbers\n",
    "    return text.strip()\n",
    "\n",
    "def prepareAndCleanMyDataset(dataSet):\n",
    "    dataSet['article'] = initialCleaningOfData(dataSet['article'])\n",
    "    dataSet['abstract'] = initialCleaningOfData(dataSet['abstract'])\n",
    "    return dataSet\n",
    "\n",
    "#beautiful Func save me alot of time :)\n",
    "dataSet = dataSet.map(prepareAndCleanMyDataset, batched=False)\n",
    "\n",
    "output_file = 'cleaned_dataset.json'\n",
    "\n",
    "data_list = []\n",
    "for split_name in dataSet.keys():\n",
    "    for example in dataSet[split_name]:\n",
    "        data_list.append({\n",
    "            'split': split_name,\n",
    "            'article': example['article'],\n",
    "            'abstract': example['abstract']\n",
    "        })\n",
    "\n",
    "with open(output_file, 'w', encoding='utf-8') as f:\n",
    "    json.dump(data_list, f, ensure_ascii=False, indent=4)\n",
    "\n",
    "print(f\"Cleaned dataset saved to {output_file}\")\n",
    "\n"
   ]
  },
  {
   "cell_type": "markdown",
   "id": "e310d7fb-2e88-494a-9ea7-0e0067af4206",
   "metadata": {},
   "source": [
    "### Run This Block Once you Run Above one Every Time"
   ]
  },
  {
   "cell_type": "code",
   "execution_count": 7,
   "id": "1fe282f4-462e-4177-872c-e6b7324e02a9",
   "metadata": {},
   "outputs": [],
   "source": [
    "#saving it locally to save time and ease of loading\n",
    "input_file = 'D:/cleaned_dataset.json' #D:/cleaned_dataset.json\n",
    "with open(input_file, 'r', encoding='utf-8') as f:\n",
    "    dataList = json.load(f)"
   ]
  },
  {
   "cell_type": "code",
   "execution_count": 3,
   "id": "b01a81b1-beab-4721-90ae-1ff1cb0728a7",
   "metadata": {
    "scrolled": true
   },
   "outputs": [
    {
     "name": "stdout",
     "output_type": "stream",
     "text": [
      "{'split': 'validation', 'article': 'most adults with autoimmune diabetes non  insulin  requiring at diagnosis become so within  years       the optimal treatment for this second largest group of patients with diabetes is still unknown     adult patients with autoimmune diabetes usually have larger remaining cell mass at diagnosis and many develop cell destruction more slowly  latent autoimmune diabetes in adults  lada  is therefore a suitable group for evaluating new therapies in autoimmune diabetes and may also serve as a model for intervention in classical type  diabetes         the incidence of autoimmune diabetes is about equal in almost all age groups       abrupt onset  often with ketoacidosis  is most frequent during childhood  a more modest onset is more frequent in adolescents and younger adults  and among adults and elders a slowly progressive onset  termed lada  is frequent           classical type  diabetes and lada patients often have normal c  peptide levels at diagnosis  but further progressive decline occurs after onset  and insulin dependency occurs almost inevitably             most trials in early type  diabetes have been performed in children  whose remaining cell mass is limited  and short  term evaluation of intervention may be difficult also due to not infrequently occurring remission periods       no therapy has yet been demonstrated to promote long  term insulin independency           rodent studies have demonstrated potential positive effects of insulin treatment       a pilot study of small doses of insulin versus sulphonylurea  su  to ten ica  positive patients with slowly progressive cell failure favoured insulin for the preservation of c  peptide     c  peptide is the outcome measure of choice of cell function in trials of autoimmune diabetes     even modest preservation of cell function has been demonstrated to have positive effects on the frequency of hypoglycaemic events  and on the prevalence of retinopathy     to investigate the effect of early insulin treatment in lada patients  for  years  on residual cell function and metabolic control  compared with a group initially treated with diet andor oral hypoglycaemic agents  oha   adults  aged  years  diagnosed with diabetes in lund and kronoberg counties in southern sweden  non  insulin  requiring at diagnosis and positive to at least one of gadabs andor icas were eligible for participation  two thirds had to be excluded due to mental conditions or severe physical illness  but also unwillingness to risk the early start of insulin injections  the majority of the patients were randomised into two groups  in blocks of eight  by pre  prepared closed envelopes kept at the two hospital policlinics  however complete strict randomisation was not possible  as some patients refused randomisation to possible insulin treatment before it was unavoidable  there were  patients in the intervention group  i   treated with insulin from baseline  starting with  units intermediate  acting insulin at night  and  patients in the control group  c  who received regular treatment with dietoha  mostly metformin  and some su       for both the groups  goals for glucose levels were in accordance with general guidelines  fasting plasma glucose  fpg    preprandial pg  and postprandial decisions to increase treatment in doses  number of doses and addition of ohas or insulin were at the discretion of the treating physician  if two doses  day of intermediate  acting insulin or mix  insulin were not satisfactory  doses of direct or rapid  acting insulin before meals were added  resulting in  doses  day  glucagon  stimulation tests were performed at baseline and after    and  months during annual policlinic visits at the two research clinics  after an overnight fast  c  peptide was determined before and  min after iv  c  peptide was analysed by commercial ria  md  euro  diagnostica ab  malm  sweden   total variation  sum of intra  and inter  assay variations    reference range  c  peptide level  to reflect a preserved normal cell function  was arbitrarily set at  nmol  l  icas were analysed with immunofluorescence assay  with detection limit  jdf  u  sensitivity  and specificity   gadabs were analysed with radioimmuno  precipitation with lower reference limit at an index of   corresponding to  who  u  ml  sensitivity  and specificity   all analyses were standardised according to the diabetes antibody standardization program       metabolic control was assessed by hbalc  mono  s   and values were converted to dcct standard     regarding the metabolic syndrome  complete information was available regarding only body mass index  bmi  and prevalence of hypertension  defined as blood pressure   mmhg at the baseline visit  or taking antihypertensive medication  all subjects provided informed consent  analyses were carried out according to intention  to  treat  for comparisons between the groups  student s t  test  or fisher s exact test and the mann c  peptide and hbalc at baseline and after     and  months were analysed with repeated measures anova using time as covariate  for three  group analyses  anova with bonferroni correction was performed where appropriate  risk factors and relations were analysed in several models with simple  multiple  linear and logistic regressions  forward stepwise  wald   spss software  version   chicago  il  usa   was used  analyses were carried out according to intention  to  treat  for comparisons between the groups  student s t  test  or fisher s exact test and the mann c  peptide and hbalc at baseline and after     and  months were analysed with repeated measures anova using time as covariate  for three  group analyses  anova with bonferroni correction was performed where appropriate  risk factors and relations were analysed in several models with simple  multiple  linear and logistic regressions  forward stepwise  wald   spss software  version   chicago  il  usa   was used  for the baseline characteristics of the groups  see table   there were no significant gender differences in the whole study  except that in the control group there were only men with hypertension  p   most subjects were overweight since both the i and c groups had mean bmi kg  m  median duration of diabetes at inclusion in the study was   quartiles   months  in both the groups   of the patients   in i and  in c  completed  months of follow  up  the conventionally treated  c       started insulin treatment due to clinical necessity within  months  for the levels of glucagon  stimulated c  peptide  see table  and fig  c  peptide levels were unchanged for four patients  increased by mean     nmol  l for six and declined in all others after  months  mean glucagon  stimulated c  peptide decreased significantly in both the groups during the  months  p   there was a significant time trend for the decrease in c  peptide of  nmol  l per year  p  over  months without any significant difference between the groups  in repeated measures  anova with time as covariate  that analyses the changes in c  peptide over time with the levels at baseline taken into account  no differences could be found regarding mean  stimulated c  peptide at any time point  although with the mann whitney u test the difference in c  peptide at baseline  cp  was significant  p  there were large variations in c  peptide levels between different individuals  at all time points  within both the groups  p   explaining all the variation between them  fig  cp explained  of level of c  peptide at  months  cp   r   p   furthermore  age was the only other factor that had a weak and non  significant influence on cp  explaining about  of cp  r   p   gender  baseline or end  of  study values of bmi  titres of gadab or ica  hbalc or diabetes duration before the study start did not influence c  peptide at end  of  study  it was     in c  and     in i  p   the odds ratio  or  for having a cp  nmol  l was  for every increase in cp with  nmol  l  p   and  for each increase in baseline age by  year  p   if corrected for cp and age  the two factors found to have any influence on cp  the insulin treated had a non  significant or of     of having a cp of  the results of levels of fasting c  peptide  fcp   when comparing the two treatment groups  data not shown   were in accordance with the described results of stimulated c  peptide  among the controls  the level of hbalc had increased significantly at  months from    to     p   fig   there was no significant difference between hbalc at baseline      and after  months      p   fig     for the levels of hbalc at baseline and during follow  up  see table  and fig  the differences between the groups in absolute levels of hbalc were not significant either at baseline or after    or  months  the levels of hbalc were not influenced by age  gender  bmi  antibody prevalences or titres or c  peptide levels  at baseline  prevalences of gadab were   ica    had both antibodies   gadab only and  only ica  with no significant differences between the two treatment groups  of the  patients whose iaa status was known      were positive  all of them were also positive to gadab and all but one was positive to ica  meaning that  of all were positive to at least two antibodies  at baseline  mean indexes of gadab were     in i      in c  ns  and mean ica titres were     in i      jdf  u in c  ns   at baseline  there were no significant differences in the prevalences of any of the three antibodies between the two treatment groups or between genders  different ages  duration of diabetes before study start or levels of bmi or hbalc  neither were there any significant differences between the groups in titres of gadab or ica after    or  months  the titres of gadab or ica were not related to patient age  gender  bmi  diabetes duration  treatment or hbalc at baseline or during the follow  up  c  peptide at baseline or  months was not influenced by baseline titre of gadab  ica or iaa  no episodes of major hypoglycaemia were reported for any of the patients  and only a few minor ones  mean weight at baseline was     range   kg in group i  and     range   kg in group c  ns   at end  of  study       kg in i      range   kg in c  ns   mean weight change during the study was     range  to    kg in i      range  to    kg in c  ns   for the three groups  those treated with insulin from baseline  those never treated with insulin and those who were originally treated with dietoha  but had to start insulin treatment during the study  the influences of age  bmi  hbalc  diabetes duration before study start or antibody titres were analysed  with no significant findings except for the influence of cp on cp  the tests for all the relevant parameters were also carried out with the  patients divided into groups of ever versus never  insulin treated  during the study   again with no significant results  p   apart from the significant influence of cp on cp  p   for the levels of glucagon  stimulated c  peptide  see table  and fig  c  peptide levels were unchanged for four patients  increased by mean     nmol  l for six and declined in all others after  months  mean glucagon  stimulated c  peptide decreased significantly in both the groups during the  months  p   there was a significant time trend for the decrease in c  peptide of  nmol  l per year  p  over  months without any significant difference between the groups  in repeated measures  anova with time as covariate  that analyses the changes in c  peptide over time with the levels at baseline taken into account  no differences could be found regarding mean  stimulated c  peptide at any time point  although with the mann whitney u test the difference in c  peptide at baseline  cp  was significant  p  there were large variations in c  peptide levels between different individuals  at all time points  within both the groups  p   explaining all the variation between them  fig  cp explained  of level of c  peptide at  months  cp   r   p   furthermore  age was the only other factor that had a weak and non  significant influence on cp  explaining about  of cp  r   p   gender  baseline or end  of  study values of bmi  titres of gadab or ica  hbalc or diabetes duration before the study start did not influence c  peptide at end  of  study  it was     in c  and     in i  p   the odds ratio  or  for having a cp  nmol  l was  for every increase in cp with  nmol  l  p   and  for each increase in baseline age by  year  p   if corrected for cp and age  the two factors found to have any influence on cp  the insulin treated had a non  significant or of     of having a cp of  the results of levels of fasting c  peptide  fcp   when comparing the two treatment groups  data not shown   were in accordance with the described results of stimulated c  peptide  among the controls  the level of hbalc had increased significantly at  months from    to     p   fig   there was no significant difference between hbalc at baseline      and after  months      p   fig     for the levels of hbalc at baseline and during follow  up  see table  and fig    the differences between the groups in absolute levels of hbalc were not significant either at baseline or after    or  months  the levels of hbalc were not influenced by age  gender  bmi  antibody prevalences or titres or c  peptide levels  at baseline  prevalences of gadab were   ica    had both antibodies   gadab only and  only ica  with no significant differences between the two treatment groups  of the  patients whose iaa status was known      were positive  all of them were also positive to gadab and all but one was positive to ica  meaning that  of all were positive to at least two antibodies  at baseline  mean indexes of gadab were     in i      in c  ns  and mean ica titres were     in i      jdf  u in c  ns   at baseline  there were no significant differences in the prevalences of any of the three antibodies between the two treatment groups or between genders  different ages  duration of diabetes before study start or levels of bmi or hbalc  neither were there any significant differences between the groups in titres of gadab or ica after    or  months  the titres of gadab or ica were not related to patient age  gender  bmi  diabetes duration  treatment or hbalc at baseline or during the follow  up  c  peptide at baseline or  months was not influenced by baseline titre of gadab  ica or iaa  no episodes of major hypoglycaemia were reported for any of the patients  and only a few minor ones  mean weight at baseline was     range   kg in group i  and     range   kg in group c  ns   at end  of  study       kg in i      range   kg in c  ns   mean weight change during the study was     range  to    kg in i      range  to    kg in c  ns   for the three groups  those treated with insulin from baseline  those never treated with insulin and those who were originally treated with dietoha  but had to start insulin treatment during the study  the influences of age  bmi  hbalc  diabetes duration before study start or antibody titres were analysed  with no significant findings except for the influence of cp on cp  the tests for all the relevant parameters were also carried out with the  patients divided into groups of ever versus never  insulin treated  during the study   again with no significant results  p   apart from the significant influence of cp on cp  p   few prospective intervention studies have been conducted in lada patients and there is still no general agreement on the best treatment aimed to preserve cell function       there has not been any general consensus definition of lada  which complicates comparisons and pooling of results  the most common denominators are adult age  positivity to at least one pancreatic autoantibody  and non  insulin dependency at diagnosis     age  bmi  duration of diabetes and of insulin independency  which of the antibodies that were analysed  gadab titres and the expression of the essential outcome variable c  peptide vary           a cochrane review also noted the heterogeneity between studies  and the conclusion about early insulin treatment was uncertain     our study included patients aged  years  non  insulin dependent at the times of diagnosis and inclusion and positive to at least one pancreatic autoantibody  for  two antibodies  thereby fulfilling the main criteria for lada     the results of the study indicated that none of the baseline parameters  except initial c  peptide level  significantly influenced the outcome  eliminating the importance of several criteria in comparisons with other studies  in other studies  patients aged   years have often been excluded  but lada exists also in these older age groups     the decline in residual cell function was progressive for the majority of our lada patients  as is usual in autoimmune diabetes           we observed great variation in the rates and magnitudes of cell loss between patients and between different time periods during the study  with no consistent patterns  mechanisms such as more step  wise losses due to  for instance  partial remissions might explain this     the decline in c  peptide was irrespective of age  gender  bmi  antibody titres  hbalc or treatment modality  the lack of influence of bmi  age  diabetes duration and baseline hbalc on disease progression was also seen in a non  interventional observation study of lada that followed  ab  positive patients by stimulated c  peptide for  years     similar to ukpds  we found no association between gadab levels and disease progress     in contrast to observational studies that described this       we could not  in a number of regression analyses  define any other factor besides cp that significantly influenced the level of cp  the significance of initial c  peptide level was also demonstrated in a large swedish study of new  onset  year olds and in the tokyo intervention study       the length of our study may explain that some patients with initially higher levels of c  peptide  overrepresented in the control group  by  months had not yet lost enough cell function to be clinically insulin dependent  some antibody  positive patients were described to take up to  years to become insulin dependent  but practically all eventually did     a significant beneficial effect of early insulin treatment on the preservation of cell function could not be demonstrated  but level of hbalc after  months was better preserved in the insulin treated  in keeping with observations by chaillous et al  incidentally  the shape of the curve of the development of hbalc levels over time for the conventionally treated group in our study had a likeness to that observed in the ukpds     our study  as most prospective intervention studies of lada  was not large  the tokyo study  with  patients  found a preference for insulin treatment versus su  possibly due to the differences in treatment  but longer duration of diabetes  up to  years without insulin before inclusion  rendering a selection of patients with better endogenous insulin production from the start  would have excluded those who progressed earlier to insulin dependence  so the trial population differed from ours     baseline level of c  peptide was an important independent predictor of the ability to preserve a sufficient amount of c  peptide over time  just as in our study  many reports end with a general recommendation of insulin treatment in lada  but the evidence has not been compelling  as concluded by the  cochrane review  which scrutinised seven insulin intervention studies in lada  two insulin versus su  the rest insulin alone versus different combinations of insulinoha     ukpds recorded hbalc  weight and treatment  randomised to insulin versus su  and found that  of the su treated were insulin dependent after  years     one conclusion was that su might promote insulin dependency and apart from not recommending su the cochrane review found no preference for any special type of treatment for the lada group     in our study after  years   of the conventionally treated patients were not yet treated with insulin  in contrast to both ukpds and the tokyo study  only  of our control patients were treated with su  which could be of importance for cell function  in another study  of  patients in four groups  the insulin treated  all with low fcp   nmol  received either insulin alone or combined with rosiglitazone  rgz   and the oha treated  all with fcp   to our knowledge  this study is the first prospective controlled european intervention study of treatment in lada  differences in defining the lada population regarding age  diabetes duration before start of intervention  antibody prevalences and gadab titres  bmi and  not least  baseline levels of c  peptide  if available  have contributed to difficulties in interpreting and comparing the results of the few existing lada intervention studies             in this study  none of these factors  except baseline level of c  peptide  significantly affected the outcome  the similar findings also seen in trials of classical type  diabetes and of prevention of autoimmune diabetes in high  risk individuals substantiate the observation of the influence of initial level of c  peptide on outcome level       we also saw a non  significant or favouring insulin treatment for preservation of cell function  indicating the possibility that a larger study population andor a longer period of follow  up might demonstrate significant preference for early insulin treatment also regarding cell function  this study indicated that early insulin treatment in lada patients lead to better preservation of level of metabolic control  and that it was safe and well tolerated  the decline in c  peptide was progressive irrespective of age  gender  bmi  hbalc levels and antibody titres  only baseline level of c  peptide significantly influenced c  peptide level after  years  m landin  olsson has received a part  time professorship sponsored by novo  nordisk scandinavia  the other authors have no dualities of interest in relation to this article  the work was financed by the healthcare regions of skane and kronoberg  southern sweden  lund university funding of clinical research  alf   and the swedish council of medical research', 'abstract': 'objectivesthe optimal treatment of latent autoimmune diabetes in adults  lada  is not established  we explored whether early insulin treatment  which has shown beneficial effects in rodents and in human pilot studies  would result in better preservation of cell function or metabolic control  compared with conventional treatmentsubjects and methodsglucagon  stimulated c  peptide and hbalc were evaluated at baseline and after    and  months in  patients recently diagnosed with diabetes  aged  years  non  insulin  requiring and gadab andor ica positive  twenty patients received early insulin and  received conventional treatment  dietoral hypoglycaemic agents  oha   metformin  some andor sulfonylurea  and insulin when necessaryresultslevel of metabolic control  hbalc  was preserved in the early insulin treated  while it significantly deteriorated in the conventionally treated  there was no significant difference between the groups in c  peptide after    or  months  or in the decline of c  peptide  only baseline c  peptide predicted a c  peptide of  nmol  l at  months  gender  body mass index  antibody titres or hbalc did not influence the levels of c  peptide or hbalc at baseline or end  of  study  or the decline in c  peptide  among the dietoha  treated      developed insulin dependency during the follow  up  no major hypoglycaemic events occurredconclusionsearly insulin treatment in lada leads to better preservation of metabolic control and was safe  superior preservation of c  peptide could not be significantly demonstrated  only baseline level of c  peptide significantly influenced c  peptide level after  years  further studies exploring the best treatment in lada are warranted'}\n"
     ]
    }
   ],
   "source": [
    "print(dataList[119930])"
   ]
  },
  {
   "cell_type": "markdown",
   "id": "519537c5-1c6b-4706-80e0-f50d3632f64e",
   "metadata": {
    "scrolled": true
   },
   "source": [
    "## Tokenization And Lemmatization (of Limited Part Of Data Set)"
   ]
  },
  {
   "cell_type": "code",
   "execution_count": 4,
   "id": "a8e8fccb-9383-4d87-8c48-6edb18ac53a9",
   "metadata": {},
   "outputs": [],
   "source": [
    "\n",
    "def removeStopwordsAndLemmatize(text):\n",
    "    \n",
    "    doc = nlp(text)\n",
    "    \n",
    "    lemmatizedTokens = []\n",
    "    \n",
    "    for token in doc:\n",
    "        \n",
    "        if not token.is_stop:\n",
    "            \n",
    "            lemmatizedTokens.append(token.lemma_)\n",
    "    \n",
    "    return ' '.join(lemmatizedTokens)\n",
    "\n",
    "def prepareAndClean(example):\n",
    "    example['article'] = removeStopwordsAndLemmatize(example['article'])\n",
    "    example['abstract'] = removeStopwordsAndLemmatize(example['abstract'])\n",
    "    return example\n",
    "\n",
    "\n",
    "trainData, validationData, testData = [], [], []\n",
    "for example in dataList:\n",
    "    if example['split'] == 'train' and len(trainData) < 500:\n",
    "        trainData.append(example)\n",
    "    elif example['split'] == 'validation' and len(validationData) < 500:\n",
    "        validationData.append(example)\n",
    "    elif example['split'] == 'test' and len(testData) < 500:\n",
    "        testData.append(example)\n",
    "\n",
    "\n",
    "\n",
    "trainData = [prepareAndClean(example) for example in trainData]\n",
    "validationData = [prepareAndClean(example) for example in validationData]\n",
    "testData = [prepareAndClean(example) for example in testData]\n",
    "\n",
    "\n",
    "\n",
    "\n"
   ]
  },
  {
   "cell_type": "code",
   "execution_count": 4,
   "id": "3365c46c-8cc3-4e82-a031-94f70ac881e3",
   "metadata": {
    "scrolled": true
   },
   "outputs": [
    {
     "name": "stdout",
     "output_type": "stream",
     "text": [
      "{'split': 'validation', 'article': 'need magnetic resonance image   mri   patient implanted pacemaker implantable cardioverter   defibrillator   icd   grow clinical issue   estimate   active cardiac device recipient indicate mri   currently   vast majority device contraindicate use mri   european heart rhythm association survey   publish recently non   mri   certify icd    t field strength    totally subcutaneous icd   s   icd   system   implantable defibrillator lead touch heart   recently demonstrate safe effective defibrillator option patient risk sudden cardiac death   provide shock therapy post   shock pace therapy   long   term bradycardia pace   show alternative standard transvenous icd   compatibility mri remain unclear   type clinical mri system currently use superconductive magnet create static magnetic field strength   typically     t use mri pacemaker icd consider contraindication potential hazard   include heating electrode reside heart   damage myocardium   elevation pace threshold   unintended induction ventricular tachycardia   vt   ventricular fibrillation   vf    pace inhibition   permanent device malfunction   distortion mri scan   recently   mr   conditional mr   conditional indicate lack know hazard specify mri environment specify condition use   variety mri scanner scan protocol   practical test single device condition     mr   conditional labelling dictate device safe use certain scanning condition   cardiac device program exposure magnetic field mri scanner   literature   limited   provide guidance image patient implant pacemaker icd mr   conditional labelling   single   centre prospective non   control study describe use mri patient implant s   icd   patient implant s   icd system   boston scientific sqrx model   q   trak model    enrol mri testing period   month   s   icd system implant patient cohort compose implant left mid   lateral pocket para   sternal subcutaneous electrode   s   icd currently certify use mri     ethic committee homolka hospital   prague   czech republic approve clinical study   patient newly implant s   icd system     week   exclude   patient intravascular lead   patient randomize cardiac   brain   cervical   lumbar spinal scan   subject undergo additional knee examination   report chronic pain   total   patient enrol study    male female   aged   year   mean   year   subject cohort   table    undergo total   mri scan   june     december    total   brain scan   cardiac scan    lumbar scan   knee   cervical spine scan conduct   table       patient minor disc protrusion find   mri reveal stenosis intervertebral foraman cause radicular pain nerve root l base examination patient refer ct   navigate periradicular therapy   table summary patient anatomical datum scan location   note clinical eventsidagesexbmidgef    indication s   icdheatingfhcmp   vfssecondary preventionnonempost   mi   smvts post   catheter ablationsecondary prevention   post   transvenous icd extractionnonemarvc   d   smvtssecondary preventionin   tolerable   scannedmpost   mi   post   cabgprimary preventionnonempost   miprimary preventionnonempost   miprimary preventionnonempost   mi   vfs   vtssecondary prevention post   transvenous icd extraction   svc occlusiontolerablembrugada sy   vfssecondary preventionin   tolerable   scannedmdcmp   vfs   post   mitral valve surgerysecondary prevpost   transvenous icd extractionnonefarvc   dprimary preventionnoneflqts   vfsecondary preventionnonempost   mi   vf   post   cabgsecondary prevention   post   repeat transvenous icd extractiontolerablemdcmpnon   compactionvfssecondary preventionnonemsystolic dysfunction lvprimary preventionnonembrugada syprimary preventionnonehcmp   hypertrophic cardiomyopathy   smvt   sustain monomorphic ventricular tachycardia   mi   myocardial infarction   arvc   arrhythmogenic right ventricular cardiomyopathy   cabg   coronary artery   pass graft   lqts   long qt syndrom   table parmeter s   icd patient sensation individual mri scansscan   idbody partheate sensationsshock zone   bpmcondit   shock zone   bpmbat   episode numbrainnonebrainnonel spinein   tolerablebrainnonebrainnonel spinenonel spinenonel spinetolerablel spinein   tolerablenanananabrainnonenanananal spinenoneheartnonel spinenoneheartnonenanananaheartnonel spinetolerablel spinenonec spinenonel spinenonel spinenonekneenonel spinenone   icd parameter acquire prior post   mri change   value presentedindice   na   available   l spine   lumbar spine   c spine   cervical spine   summary patient anatomical datum scan location   note clinical event hcmp   hypertrophic cardiomyopathy   smvt   sustain monomorphic ventricular tachycardia   mi   myocardial infarction   arvc   arrhythmogenic right ventricular cardiomyopathy   cabg   coronary artery   pass graft   lqts   long qt syndrom   parmeter s   icd patient sensation individual mri scan s   icd parameter acquire prior post   mri change   value present   index   na   available   l spine   lumbar spine   c spine   cervical spine   study perform siemen avanto   t mri scanner   vb software   quantum gradient coil    scan run normal operating mode   limit   w   kg body average specific absorption rate   sar    clinically relevant mri sequence evaluation   table     table type pulse sequence typically imaging respective anatomical areasscan locationscan sequencesflairdwiflashfsehastesestirtruefispbrainxxxxheartxxxxcervical spinexxkneexxxxlumbar spinexxflair   fluid attenuate inversion recovery   dwi   diffusion weight image   flash   fast low angle shot   fse   fast spin echo   haste   half acquisition single   shoot turbo spin echo   se   spin echo   stir   short tau inversion recovery   truefisp   true fast imaging steady   state precessionfse sequence cause heating subject thermistor probe lumbar spine examination   text detail    type pulse sequence typically imaging respective anatomical area flair   fluid attenuate inversion recovery   dwi   diffusion weight image   flash   fast low angle shot   fse   fast spin echo   haste   half acquisition single   shoot turbo spin echo   se   spin echo   stir   short tau inversion recovery   truefisp   true fast imaging steady   state precession   fse sequence cause heating subject thermistor probe lumbar spine examination   text detail    patient ask report immediately pain   torqueing movement   heating sensation area pocket electrode press emergency bulb   furthermore   patient question immediately follow mri procedure ascertain discomfort vicinity electrode   pulse oximetry standard lead electrocardiogram   ecg   discomfort occur   patient ask scan repeat later time revise scan sequence subject randomize anatomical area   component s   icd system heart   heating near   heating near electrode s   icd system cause patient discomfort     education subject   patient instrument tape oesophageal temperature probe   beta   therm model gkmcd   skin mid   lateral implant site record temperature excursion correlate patient symptom heating   discomfort near pocket   minimize risk inappropriate therapy   s   icd system program therapy s   icd system evaluate prior immediately scan verify proper functioning   include interrogation   sensing   battery voltage   completion mri   long   term regular clinical follow   checking device perform   patient implant s   icd system   boston scientific sqrx model   q   trak model    enrol mri testing period   month   s   icd system implant patient cohort compose implant left mid   lateral pocket para   sternal subcutaneous electrode   s   icd currently certify use mri     ethic committee homolka hospital   prague   czech republic approve clinical study   patient newly implant s   icd system     week   exclude   patient intravascular lead   patient randomize cardiac   brain   cervical   lumbar spinal scan   subject undergo additional knee examination   report chronic pain   total   patient enrol study    male female   aged   year   mean   year   subject cohort   table    undergo total   mri scan   june     december    total   brain scan   cardiac scan    lumbar scan   knee   cervical spine scan conduct   table       patient minor disc protrusion find   mri reveal stenosis intervertebral foraman cause radicular pain nerve root l base examination patient refer ct   navigate periradicular therapy   table summary patient anatomical datum scan location   note clinical eventsidagesexbmidgef    indication s   icdheatingfhcmp   vfssecondary preventionnonempost   mi   smvts post   catheter ablationsecondary prevention   post   transvenous icd extractionnonemarvc   d   smvtssecondary preventionin   tolerable   scannedmpost   mi   post   cabgprimary preventionnonempost   miprimary preventionnonempost   miprimary preventionnonempost   mi   vfs   vtssecondary prevention post   transvenous icd extraction   svc occlusiontolerablembrugada sy   vfssecondary preventionin   tolerable   scannedmdcmp   vfs   post   mitral valve surgerysecondary prevpost   transvenous icd extractionnonefarvc   dprimary preventionnoneflqts   vfsecondary preventionnonempost   mi   vf   post   cabgsecondary prevention   post   repeat transvenous icd extractiontolerablemdcmpnon   compactionvfssecondary preventionnonemsystolic dysfunction lvprimary preventionnonembrugada syprimary preventionnonehcmp   hypertrophic cardiomyopathy   smvt   sustain monomorphic ventricular tachycardia   mi   myocardial infarction   arvc   arrhythmogenic right ventricular cardiomyopathy   cabg   coronary artery   pass graft   lqts   long qt syndrom   table parmeter s   icd patient sensation individual mri scansscan   idbody partheate sensationsshock zone   bpmcondit   shock zone   bpmbat   episode numbrainnonebrainnonel spinein   tolerablebrainnonebrainnonel spinenonel spinenonel spinetolerablel spinein   tolerablenanananabrainnonenanananal spinenoneheartnonel spinenoneheartnonenanananaheartnonel spinetolerablel spinenonec spinenonel spinenonel spinenonekneenonel spinenone   icd parameter acquire prior post   mri change   value presentedindice   na   available   l spine   lumbar spine   c spine   cervical spine   summary patient anatomical datum scan location   note clinical event hcmp   hypertrophic cardiomyopathy   smvt   sustain monomorphic ventricular tachycardia   mi   myocardial infarction   arvc   arrhythmogenic right ventricular cardiomyopathy   cabg   coronary artery   pass graft   lqts   long qt syndrom   parmeter s   icd patient sensation individual mri scan s   icd parameter acquire prior post   mri change   value present   index   na   available   l spine   lumbar spine   c spine   cervical spine   study perform siemen avanto   t mri scanner   vb software   quantum gradient coil    scan run normal operating mode   limit   w   kg body average specific absorption rate   sar    clinically relevant mri sequence evaluation   table     table type pulse sequence typically imaging respective anatomical areasscan locationscan sequencesflairdwiflashfsehastesestirtruefispbrainxxxxheartxxxxcervical spinexxkneexxxxlumbar spinexxflair   fluid attenuate inversion recovery   dwi   diffusion weight image   flash   fast low angle shot   fse   fast spin echo   haste   half acquisition single   shoot turbo spin echo   se   spin echo   stir   short tau inversion recovery   truefisp   true fast imaging steady   state precessionfse sequence cause heating subject thermistor probe lumbar spine examination   text detail    type pulse sequence typically imaging respective anatomical area flair   fluid attenuate inversion recovery   dwi   diffusion weight image   flash   fast low angle shot   fse   fast spin echo   haste   half acquisition single   shoot turbo spin echo   se   spin echo   stir   short tau inversion recovery   truefisp   true fast imaging steady   state precession   fse sequence cause heating subject thermistor probe lumbar spine examination   text detail    patient ask report immediately pain   torqueing movement   heating sensation area pocket electrode press emergency bulb   furthermore   patient question immediately follow mri procedure ascertain discomfort vicinity electrode   pulse oximetry standard lead electrocardiogram   ecg   discomfort occur   patient ask scan repeat later time revise scan sequence subject randomize anatomical area   component s   icd system heart   heating near electrode harm myocardium     heating near electrode s   icd system cause patient discomfort     education subject   patient instrument tape oesophageal temperature probe   beta   therm model gkmcd   skin mid   lateral implant site record temperature excursion correlate patient symptom heating   discomfort near pocket   minimize risk inappropriate therapy   s   icd system program therapy s   icd system evaluate prior immediately scan verify proper functioning   include interrogation   sensing   battery voltage   completion mri   s   icd system reprogramme original setting   long   term regular clinical follow   checking device perform   anomaly note pulse oximetry ecg scan patient     patient report sensation pain heating     patient report feel heating   patient report intolerable heating   table     patient intolerable heating   scan halt second change scan brain   proceed incident   patient report heating vicinity occur lumbar scan thermistor probe   report occur scan brain   cardiac area   cervical spine   probe   case heat vicinity report patient   scan sequence alter reduce intensity radiofrequency   rf   field exposure reduce turbo factor   eg       increase repetition time   eg    ms    reduce flip angle   eg       target value choose arbitrarily maintain image contrast   flip angle   scan time reasonable limit   turbo factor repetition time    heating note patient modification scan parameter     observe skin lesion   appear circular rash ulcer surface skin   approximately   mm diameter   cause skin anomaly know   later note fully heal follow     day scan   ascertain effect heating instrumented thermistor catheter   patient experience heating   examination      table    rescanne week later thermistor catheter place   examination         modify sequence   low energy deposit tissue     cause heating   sensation report subject   ask report minimal discomfort   lumbar scan perform setting result heat thermistor catheter place imaging session   result rescan reveal heating feel patient thermistor catheter absent   note change battery voltage   ability detect qrs signal store diagnostic datum   pacing threshold assess s   icd system   evaluate   patient report pulling twisting pain heating s   icd electrode   scan brain   lumbar spine   knee   cervical spine   effect image artefact note anatomical area interest     scan cardiac area   image artefact note interfere ability part left ventricle   right ventricle heart unaffected image usefully   electrode   figure     modification protocol lumbar spine result low signal     noise ratio     image remain diagnostic quality   figure     figure kinetic study   chamber view   systolic   c   diastolic   b d   image cine sequence     chamber view   steady   state free precession   ssfp   sequence   b   show artefact   ssfp kinetic study   inflow dark blood left pulmonary vein see   cause s   icd metallic ring mitral annulus   spoiled gradient echo   gre   sequence   c d   well   artefact lateral wall obvious   figure lumbar spine image icd   low sar t fse sequence   upper image   compare normal t fse subject   low image   scan parameter discussion section    kinetic study   chamber view   systolic   c   diastolic   b d   image cine sequence     chamber view   steady   state free precession   ssfp   sequence   b   show artefact   ssfp kinetic study   inflow dark blood left pulmonary vein see   cause s   icd metallic ring mitral annulus   spoiled gradient echo   gre   sequence   c d   well   artefact lateral wall obvious   lumbar spine image icd   low sar t fse sequence   upper image   compare normal t fse subject   low image   scan parameter discussion section    note change battery voltage   ability detect qrs signal store diagnostic datum   pacing threshold assess s   icd system   evaluate   patient report pulling twisting pain heating s   icd electrode   scan brain   lumbar spine   knee   cervical spine   effect image artefact note anatomical area interest     scan cardiac area   image artefact note interfere ability part left ventricle   right ventricle heart unaffected image usefully   electrode   figure     modification protocol lumbar spine result low signal     noise ratio     image remain diagnostic quality   figure     figure kinetic study   chamber view   systolic   c   diastolic   b d   image cine sequence     chamber view   steady   state free precession   ssfp   sequence   b   show artefact   ssfp kinetic study   inflow dark blood left pulmonary vein see   cause s   icd metallic ring mitral annulus   spoiled gradient echo   gre   sequence   c d   well   artefact lateral wall obvious   figure lumbar spine image icd   low sar t fse sequence   upper image   compare normal t fse subject   low image   scan parameter discussion section    kinetic study   chamber view   systolic   c   diastolic   b d   image cine sequence     chamber view   steady   state free precession   ssfp   sequence   b   show artefact   ssfp kinetic study   inflow dark blood left pulmonary vein see   cause s   icd metallic ring mitral annulus   spoiled gradient echo   gre   sequence   c d   well   artefact lateral wall obvious   lumbar spine image icd   low sar t fse sequence   upper image   compare normal t fse subject   low image   report current literature mr   conditional pacemaker company   limited report mr   conditional icd   biotronik announce late   release mr   compatible icd device defibrillator lead pro mri   condition use exclude scanning torso focus extremity examination   european heart rhythm association survey    centre implant mri   certify icd    implant    icd device     implant   icd     fifth responder state mri   certify icd implant patient lack reimbursement indicate possible obstacle implant mri   certify pacemaker   icd   respond centre   component s   icd system heart   s   icd depend direct contact myocardium function instead use far   field sensing stimulation provide shock post   shock pace therapy   consequence   unlike transvenous system heating near electrode harm myocardium   present possible safety consequence elevation pace threshold scar myocardium   cause patient discomfort   s   icd large modern transvenous icd s   potential experience heating magnetic gradient rf field   report result believe experience mri scanning patient implant s   icd anatomical area   overall   mri perform safely patient   contrast current literature mri imaging patient electrical   active device mri   conditional   study   primary clinically significant event attributable mri scan occurrence heating area pocket patient undergo lumbar scan   know s   icd artefact thermistor catheter measure skin temperature pocket   require revision protocol     scan patient complain heating     scan patient thermistor probe result complaint heating   assume thermistor catheter heat lumbar scan cause discomfort   evidence   heating complaint occur rf   intensive scan sequence   fast spin echo   temperature probe locate axially near centre bore   rf field high   thermistor catheter construct insulated conductive cable connect electrode couple rf field efficiently   cause heating electrode pain damage surface skin probe place s   icd   heating s   icd   likely occur gradient   intensive scan sequence   generate eddy current surface internal component   location bore high gradient field   near bore edge     patient scan gradient   intensive scan sequences   eg flair dwi   s   icd system high gradient field location bore   eg brain scan    patient detect heating discomfort   addition   subcutaneous lead   instrument thermistor catheter   result heating sensation note patient   exactly sequence result heating session   use mri   compatible temperature monitor fibre optic temperature probe provide well confirmation possible skin temperature elevation affect rf field   cardiac image   main problem solve metallic artefact   especially gradient   echo sequence   like research perform nazarian et al    scan protocol yield different effect reduce qualitative extent artefact   gradient mode change normal whisper   result slow ramping field diminish change magnetic field time   artefact present limit blurring left ventricle cardiac scan yield clinically useful information   standard interrogation s   icd reveal adverse effect functioning system   adverse effect post   scan s   icd device function note   possible scan protocol test   note   s   icd s expose repeat mri scan adverse effect device function   addition   s   icd provide long   term bradycardia pace   assume pacemaker   dependent patient implant system   inhibition pacemaker function scanning sequence possible pacing threshold change unique concern patient implant transvenous icd   study include   patient   scan   t mri scanner     preliminary result apply   t mri scanner   similarly report present literature implantable device    device functionality test immediately scan long   term effect   addition   device function test s   icd system beeper   interrogation warning battery level memory irregularity occur     patient schedule regular check   defect device observe follow   month   mean observation time   month    delay enhancement mri determine cardiac scar test     anatomical area evaluate   shoulder knee   study include   patient   scan   t mri scanner     preliminary result apply   t mri scanner   similarly report present literature implantable device    device functionality test immediately scan long   term effect   addition   device function test s   icd system beeper   interrogation warning battery level memory irregularity occur     patient schedule regular check   defect device observe follow   month   mean observation time   month    delay enhancement mri determine cardiac scar test     anatomical area evaluate   shoulder knee   datum require support claim mri   conditional   study study demonstrate feasibility expose s   icd patient mri scanning monitor protocol describe   precautionary measure include      program device therapy    ii   limit sar   w   kg    iii   continuous monitoring patient pulse oximetry ecg qualified personnel especially feeling heating    iv   evaluate device function post scan    v   availability resuscitation facility mri site   give variable different mri scanner   decision perform mri patient implant s   icd system balance potential risk   study   heating likely introduce fully mri   compatible thermometer probe   subject rescanne probe report abnormality scan body area list   brain   cervical lumbar spine   heart   knee    study support iga mz r not   research project charles university prague   prvouk p unce    funding pay open access publication charge article provide iga mz r nt', 'abstract': 'aimsour aim evaluate potential safely image patient new type implantable cardioverter   defibrillator call subcutaneous implantable cardioverter   defibrillator   s   icd     t magnetic resonance image   mri   scanner   increase number patient cardiac implantable device indicate mri   grow need establish mri compatibility cardiac implantable devicesmethod resultspatient implant s   icd system undergo type anatomical mri scan   s   icd program patient monitor imaging procedure   device function evaluate pre post   scan   patient ask report immediately pain   torqueing movement   heating sensation area pocket electrode   patient undergo total   examination   t scan include brain   spine   knee   heart   patient   scan complaint heat lumbar scan   cause thermistor probe place skin measure skin temperature   remain scan occur incident   evidence device malfunction observedconclusionthis study domonstrate feasibility expose s   icd patient mri scanning monitoring protocol describe   datum require support s   icd mri conditional device'}\n"
     ]
    }
   ],
   "source": [
    "print(validationData[4])\n"
   ]
  },
  {
   "cell_type": "markdown",
   "id": "86394015-a77f-47cf-9aa7-accec11c2119",
   "metadata": {},
   "source": [
    "## Training And Testing Of Model"
   ]
  },
  {
   "cell_type": "code",
   "execution_count": 8,
   "id": "dcd6b5f6-23c5-443d-b993-384047d240fb",
   "metadata": {},
   "outputs": [
    {
     "ename": "NameError",
     "evalue": "name 'trainData' is not defined",
     "output_type": "error",
     "traceback": [
      "\u001b[1;31m---------------------------------------------------------------------------\u001b[0m",
      "\u001b[1;31mNameError\u001b[0m                                 Traceback (most recent call last)",
      "Cell \u001b[1;32mIn[8], line 2\u001b[0m\n\u001b[0;32m      1\u001b[0m dataset \u001b[38;5;241m=\u001b[39m DatasetDict({\n\u001b[1;32m----> 2\u001b[0m     \u001b[38;5;124m'\u001b[39m\u001b[38;5;124mtrain\u001b[39m\u001b[38;5;124m'\u001b[39m: Dataset\u001b[38;5;241m.\u001b[39mfrom_pandas(pd\u001b[38;5;241m.\u001b[39mDataFrame(\u001b[43mtrainData\u001b[49m)),\n\u001b[0;32m      3\u001b[0m     \u001b[38;5;124m'\u001b[39m\u001b[38;5;124mvalidation\u001b[39m\u001b[38;5;124m'\u001b[39m: Dataset\u001b[38;5;241m.\u001b[39mfrom_pandas(pd\u001b[38;5;241m.\u001b[39mDataFrame(validationData)),\n\u001b[0;32m      4\u001b[0m     \u001b[38;5;124m'\u001b[39m\u001b[38;5;124mtest\u001b[39m\u001b[38;5;124m'\u001b[39m: Dataset\u001b[38;5;241m.\u001b[39mfrom_pandas(pd\u001b[38;5;241m.\u001b[39mDataFrame(testData))\n\u001b[0;32m      5\u001b[0m })\n",
      "\u001b[1;31mNameError\u001b[0m: name 'trainData' is not defined"
     ]
    }
   ],
   "source": [
    "dataset = DatasetDict({\n",
    "    'train': Dataset.from_pandas(pd.DataFrame(trainData)),\n",
    "    'validation': Dataset.from_pandas(pd.DataFrame(validationData)),\n",
    "    'test': Dataset.from_pandas(pd.DataFrame(testData))\n",
    "})"
   ]
  },
  {
   "cell_type": "code",
   "execution_count": null,
   "id": "eb8209b9-b3d2-4118-86a1-9503c4ac7bbb",
   "metadata": {},
   "outputs": [],
   "source": []
  },
  {
   "cell_type": "markdown",
   "id": "eeccd001-e750-4a08-ab1c-c8983a8ed41e",
   "metadata": {},
   "source": [
    "## T5 Model for Summarization"
   ]
  },
  {
   "cell_type": "code",
   "execution_count": 7,
   "id": "83758505-387b-44e6-8632-f7ec8e18ce98",
   "metadata": {},
   "outputs": [
    {
     "name": "stderr",
     "output_type": "stream",
     "text": [
      "C:\\ProgramData\\anaconda3\\envs\\pubMed\\lib\\site-packages\\huggingface_hub-0.23.4-py3.8.egg\\huggingface_hub\\file_download.py:1132: FutureWarning: `resume_download` is deprecated and will be removed in version 1.0.0. Downloads always resume when possible. If you want to force a new download, use `force_download=True`.\n",
      "You are using the default legacy behaviour of the <class 'transformers.models.t5.tokenization_t5.T5Tokenizer'>. If you see this, DO NOT PANIC! This is expected, and simply means that the `legacy` (previous) behavior will be used so nothing changes for you. If you want to use the new behaviour, set `legacy=False`. This should only be set if you understand what it means, and thouroughly read the reason why this was added as explained in https://github.com/huggingface/transformers/pull/24565\n"
     ]
    }
   ],
   "source": [
    "modelName = 't5-small'\n",
    "tokenizer = T5Tokenizer.from_pretrained(modelName)\n",
    "model = T5ForConditionalGeneration.from_pretrained(modelName)"
   ]
  },
  {
   "cell_type": "markdown",
   "id": "e6370dcb-7dc2-4eeb-9cc3-8b5c3a12feeb",
   "metadata": {},
   "source": [
    "## Reasons For Selection Of Model\n",
    "- Customization: T5 can be fine-tuned to specific domains or datasets, improving its performance on the specific summarization task you are interested in.\n",
    "- Performance: T5 has shown strong performance on multiple benchmarks, including summarization tasks, making it a reliable choice for generating concise and accurate summaries.\n",
    "- Pre-trained Model: T5 is pre-trained on a large corpus of text, which gives it a strong understanding of language. This pre-training helps the model perform well on various tasks, including summarization, after fine-tuning on specific datasets."
   ]
  },
  {
   "cell_type": "code",
   "execution_count": 8,
   "id": "be6ce956-2ded-455d-a267-10d2264945fd",
   "metadata": {},
   "outputs": [
    {
     "data": {
      "application/vnd.jupyter.widget-view+json": {
       "model_id": "de406099c8974ab29485444fe59e480f",
       "version_major": 2,
       "version_minor": 0
      },
      "text/plain": [
       "Map:   0%|          | 0/500 [00:00<?, ? examples/s]"
      ]
     },
     "metadata": {},
     "output_type": "display_data"
    },
    {
     "name": "stderr",
     "output_type": "stream",
     "text": [
      "C:\\ProgramData\\anaconda3\\envs\\pubMed\\lib\\site-packages\\transformers\\tokenization_utils_base.py:3660: UserWarning: `as_target_tokenizer` is deprecated and will be removed in v5 of Transformers. You can tokenize your labels by using the argument `text_target` of the regular `__call__` method (either in the same call as your input texts if you use the same keyword arguments, or in a separate call.\n",
      "  warnings.warn(\n"
     ]
    },
    {
     "data": {
      "application/vnd.jupyter.widget-view+json": {
       "model_id": "cfa00301a94646d1b4e071ecb53996c5",
       "version_major": 2,
       "version_minor": 0
      },
      "text/plain": [
       "Map:   0%|          | 0/500 [00:00<?, ? examples/s]"
      ]
     },
     "metadata": {},
     "output_type": "display_data"
    },
    {
     "data": {
      "application/vnd.jupyter.widget-view+json": {
       "model_id": "91c82f50fd054710b709a7132eb926e6",
       "version_major": 2,
       "version_minor": 0
      },
      "text/plain": [
       "Map:   0%|          | 0/500 [00:00<?, ? examples/s]"
      ]
     },
     "metadata": {},
     "output_type": "display_data"
    }
   ],
   "source": [
    "def preprocessFunction(examples):\n",
    "    inputs = [f\"summarize: {doc}\" for doc in examples['article']]\n",
    "    modelInputs = tokenizer(inputs, max_length=512, padding='max_length', truncation=True)\n",
    "    \n",
    "    with tokenizer.as_target_tokenizer():\n",
    "        labels = tokenizer(examples['abstract'], max_length=150, padding='max_length', truncation=True)\n",
    "\n",
    "    modelInputs['labels'] = labels['input_ids']\n",
    "    return modelInputs\n",
    "\n",
    "tokenizedDataset = dataset.map(preprocessFunction, batched=True)"
   ]
  },
  {
   "cell_type": "code",
   "execution_count": 9,
   "id": "99adc4fe-73cf-4737-9e26-c6ea7f933e3a",
   "metadata": {},
   "outputs": [
    {
     "name": "stderr",
     "output_type": "stream",
     "text": [
      "C:\\ProgramData\\anaconda3\\envs\\pubMed\\lib\\site-packages\\accelerate\\accelerator.py:444: FutureWarning: Passing the following arguments to `Accelerator` is deprecated and will be removed in version 1.0 of Accelerate: dict_keys(['dispatch_batches']). Please pass an `accelerate.DataLoaderConfiguration` instead: \n",
      "dataloader_config = DataLoaderConfiguration(dispatch_batches=None)\n",
      "  warnings.warn(\n"
     ]
    }
   ],
   "source": [
    "training_args = TrainingArguments(\n",
    "    output_dir='./results',\n",
    "    evaluation_strategy='epoch',\n",
    "    learning_rate=5e-5,  # Adjusted learning rate\n",
    "    per_device_train_batch_size=8,\n",
    "    per_device_eval_batch_size=8,\n",
    "    num_train_epochs=3,\n",
    "    weight_decay=0.01,\n",
    "    lr_scheduler_type='linear',  # Example of using a linear scheduler\n",
    "    logging_dir='./logs',\n",
    "    logging_steps=10,\n",
    ")\n",
    "\n",
    "# Create Trainer\n",
    "trainer = Trainer(\n",
    "    model=model,\n",
    "    args=training_args,\n",
    "    train_dataset=tokenizedDataset['train'],\n",
    "    eval_dataset=tokenizedDataset['validation'],\n",
    "    tokenizer=tokenizer,\n",
    "    # Optional: Add additional callbacks, logging, etc.\n",
    ")\n"
   ]
  },
  {
   "cell_type": "code",
   "execution_count": 10,
   "id": "bdc11ece-4c37-4c7d-8dc6-171b46240d9a",
   "metadata": {},
   "outputs": [
    {
     "data": {
      "text/html": [
       "\n",
       "    <div>\n",
       "      \n",
       "      <progress value='189' max='189' style='width:300px; height:20px; vertical-align: middle;'></progress>\n",
       "      [189/189 1:08:05, Epoch 3/3]\n",
       "    </div>\n",
       "    <table border=\"1\" class=\"dataframe\">\n",
       "  <thead>\n",
       " <tr style=\"text-align: left;\">\n",
       "      <th>Epoch</th>\n",
       "      <th>Training Loss</th>\n",
       "      <th>Validation Loss</th>\n",
       "    </tr>\n",
       "  </thead>\n",
       "  <tbody>\n",
       "    <tr>\n",
       "      <td>1</td>\n",
       "      <td>3.968800</td>\n",
       "      <td>3.512763</td>\n",
       "    </tr>\n",
       "    <tr>\n",
       "      <td>2</td>\n",
       "      <td>3.658000</td>\n",
       "      <td>3.439108</td>\n",
       "    </tr>\n",
       "    <tr>\n",
       "      <td>3</td>\n",
       "      <td>3.931300</td>\n",
       "      <td>3.420180</td>\n",
       "    </tr>\n",
       "  </tbody>\n",
       "</table><p>"
      ],
      "text/plain": [
       "<IPython.core.display.HTML object>"
      ]
     },
     "metadata": {},
     "output_type": "display_data"
    },
    {
     "name": "stdout",
     "output_type": "stream",
     "text": [
      "Model fine-tuned and saved.\n"
     ]
    }
   ],
   "source": [
    "\n",
    "# Fine-tune the model\n",
    "trainer.train()\n",
    "\n",
    "# Define the directory where the model will be saved\n",
    "# Use the home directory for the user\n",
    "home_directory = os.path.expanduser('~')\n",
    "save_directory = os.path.join(home_directory, 'fine_tuned_t5_model')\n",
    "\n",
    "# Create the directory if it does not exist\n",
    "os.makedirs(save_directory, exist_ok=True)\n",
    "\n",
    "# Save the model and tokenizer\n",
    "model.save_pretrained(save_directory)\n",
    "tokenizer.save_pretrained(save_directory)\n",
    "\n",
    "print(\"Model fine-tuned and saved.\")\n"
   ]
  },
  {
   "cell_type": "markdown",
   "id": "235e4c85-0b36-4952-be41-46882f33b44f",
   "metadata": {},
   "source": [
    "## Performane Of Our Model On New Data"
   ]
  },
  {
   "cell_type": "code",
   "execution_count": 9,
   "id": "4b535eeb-1cac-40c4-b8fa-481415b1fbfe",
   "metadata": {},
   "outputs": [
    {
     "name": "stdout",
     "output_type": "stream",
     "text": [
      "Generated Summary: inflammatory myofibroblastic tumour imts constitute rare group neoplasm compose mixture spindle shape myofibroblast fibroblast variable inflammatory cell eosinophil plasma cell lymphocyte different term refer tumour plasma cell granuloma inflammatory myofibrohistiocytic proliferation fibroxanthoma xanthogranuloma frequently affect organ lung orbit describe clinical presentation imts depend organ arise frequently associate general inflammatory disease igg disease recently associate aggressive\n"
     ]
    }
   ],
   "source": [
    "import re\n",
    "import spacy\n",
    "from transformers import T5ForConditionalGeneration, T5Tokenizer\n",
    "\n",
    "# Load SpaCy model for text preprocessing\n",
    "nlp = spacy.load(\"en_core_web_sm\")\n",
    "\n",
    "# Function to clean and prepare new input text\n",
    "def cleanText(text):\n",
    "    text = re.sub(r'\\s+', ' ', text)  # Remove extra spaces\n",
    "    text = re.sub(r'\\n', ' ', text)   # Remove newlines\n",
    "    text = re.sub(r'[^\\w\\s]', '', text)  # Remove all non-word and non-space characters\n",
    "    text = re.sub(r'http\\S+|www.\\S+', '', text)  # Remove URLs\n",
    "    text = re.sub(r'\\S+@\\S+', '', text)  # Remove email addresses\n",
    "    text = re.sub(r'\\d+', '', text)  # Remove numbers\n",
    "    text = text.lower()  # Convert text to lowercase\n",
    "    return text.strip()\n",
    "\n",
    "def removeStopwordsAndLemmatize(text):\n",
    "    doc = nlp(text)\n",
    "    return ' '.join([token.lemma_ for token in doc if not token.is_stop])\n",
    "\n",
    "def prepareAndClean(text):\n",
    "    text = cleanText(text)\n",
    "    text = removeStopwordsAndLemmatize(text)\n",
    "    return text\n",
    "\n",
    "# Load the fine-tuned model and tokenizer\n",
    "home_directory = os.path.expanduser('~')\n",
    "save_directory = os.path.join(home_directory, 'fine_tuned_t5_model')\n",
    "\n",
    "model = T5ForConditionalGeneration.from_pretrained(save_directory)\n",
    "tokenizer = T5Tokenizer.from_pretrained(save_directory)\n",
    "\n",
    "# Function to generate a summary for a new PubMed article\n",
    "def generateSummary(article_text):\n",
    "    cleaned_text = prepareAndClean(article_text)\n",
    "    input_text = f\"summarize: {cleaned_text}\"\n",
    "    \n",
    "    inputs = tokenizer(input_text, max_length=512, padding='max_length', truncation=True, return_tensors=\"pt\")\n",
    "    summary_ids = model.generate(inputs.input_ids, max_length=150, num_beams=4, length_penalty=2.0, early_stopping=True)\n",
    "    \n",
    "    summary = tokenizer.decode(summary_ids[0], skip_special_tokens=True)\n",
    "    return summary\n",
    "\n",
    "# Example usage\n",
    "new_article_text = \"\"\"\n",
    "their radiological features suggest malignant neoplasms  whereas they are not ct and mr imaging are the most used tools in their evaluation inflammatory myofibroblastic tumours  imts  constitute a rare group of neoplasms composed of a mixture of spindle  shaped myofibroblasts or fibroblasts and a variable amount of inflammatory cells  eosinophils  plasma cells and lymphocytes   many different terms have been used to refer to these tumours  plasma cell granuloma  inflammatory myofibrohistiocytic proliferation  fibroxanthoma  xanthogranuloma  the most frequently affected organs are lung and orbit  but they have been described in nearly every organ  different aetiologies have been proposed for imt  being different chronic infections  autoimmune diseases and trauma the most accepted  specific inflammatory diseases  such as igg disease  have also been recently associated       an aggressive behaviour with metastases has been described         clinical presentation of imts depends on the organ in which they arise  but they frequently associate general inflammatory symptoms as fever or malaise  radiological appearance of imts is unspecific and they are often misdiagnosed as malignant neoplasms  many of them are incidentally discovered when an imaging technique  computed tomography  ct   ultrasonography  us  or magnetic resonance imaging  mri   is performed for any other reason  their most common radiological presentation is as solid  irregular  well  defined masses  immunohistochemical studies of t and b  cell subpopulations  cd  cd  s and c  kit may be helpful in distinguishing imts from other soft  tissue neoplasms       at the molecular level  approximately half of imts contain a clonal cytogenetic aberration that activates the anaplastic lymphoma kinase  alk   positive immunohistochemical staining of alk is in approximately   of imts  depending on the anatomical sites where they arise     furthermore  alk expression could be a prognostic factor of aggressiveness for imt  according to an update based on the new world health organisation  who  classification  imts are considered as neoplasms which may recur or metastasise in as many as   of cases  the objective of this pictorial review is to present the most important characteristics of imts arising in different locations of the body with their histological correlation   these tumours can appear as hypoechoic or hyperechoic masses with ill  defined or well  circumscribed edges and a variable doppler appearance with increased vascularity  us is usually the first imaging technique when imts appear in specific locations  such as testicles or neck  in other locations on contrast  enhanced ct  imts can appear as homogeneous or heterogeneous lesions  with variable enhancement on delayed acquisitions due to the presence of fibrosis  these findings are also present on gadolinium contrast  enhanced mri  on tweighted and tweighted sequences  imts usually show low signal intensity reflecting also the presence of fibrotic tissue  table table symptoms  radiological findings and differential diagnosis of the main imts of the bodysymptomsimaging findingsdifferential diagnosisorbitpain  redness  oedema  proptosis  ptosis  oculomotor deficits  diplopia  swelling  mass  effectsolid and heterogeneous enhancing  associated retrobulbar fat or oedemagranulomatous diseases  primary infection  sarcoid  sjgren disease  primary and secondary tumours of the orbit  lymphoma and connective tissue diseaseslungcough  chest pain  dyspnea  haemoptysis  fever  malaise and weight losssolitary  well  circumscribed  peripheral  predominance for the lower lobes  unusual calcifications  low intensity on tweighted imagesmalignant lung masses  primary bronchogenic carcinomascrotumlump in the scrotumsolid and heterogeneous masses with internal vascularity on us  small calcifications can be associatedscrotum primary neoplasmhepaticunspecific  depending on the sizeheterogeneous or peripheral enhancement during the arterial phase  or homogeneous enhancement during the arterial phase and washout during the delayed phase on ct  t hypointense and t hyperintense with heterogeneous enhancementhccsplenicleft upper quadrant or epigastric painlow  density pattern  low  intensity lesion in the early phase after gadolinium injection and high  intensity in the delayed phasesplenic haemangioma and other primary splenic neoplasms as lymphoma or splenic angiosarcomagrastrointestinal tract and mesenteryabdominal pain  intestinal obstruction  dysphagia  anaemiahypodense  heterogeneous  well  delimitedgist  inflammatory fibroid polyp  smooth muscle neoplasm  peripheral nerve sheath tumour  solitary fibrous tumour  fibromatosis  the follicular dendritic cell sarcoma  lymphoma and adenocarcinomamusculoskeletalpain  oedemanon  homogeneous  solidmalignant lesions  rabdomyosarcoma symptoms  radiological findings and differential diagnosis of the main imts of the body imts have been reported in various sites in the head and neck such as bucal space  maxillary sinus  nasal cavity  parotid gland  nasopharynx and larynx  fig  pathology  imt in the left supraglottic space  arrow  with paraglottic space involvement indicated by replacement of the paraglottic fat with soft tissue  a axial reformation of contrast  enhanced neck ct  a solid  well  defined  normal tissue was present in the peripheral zone    pathology  imt in the left supraglottic space  arrow  with paraglottic space involvement indicated by replacement of the paraglottic fat with soft tissue  a axial reformation of contrast  enhanced neck ct  a solid  well  defined  little  enhancing nodule in the supraglottic larynx was observed  yellow arrow   b microscopic study obtained after surgical removal of the lesion  the sample showed proliferation of fusiform cells mixed with macrophages and giant multinucleated cells  normal tissue was present in the peripheral zone    however  the orbit is the most common location of imts  they account for approximately   of orbital masses  being the third most common cause of orbital masses  their aetiology is unknown  but they have been associated with inmunological disorders  different infections and history of trauma  recently  they have been strongly associated with the iggrelated sclerosing systemic inflammatory disease and with chronic infection by epstein  barr virus  the clinical presentation and symptoms may vary with the location  extension and aggressiveness of the tumour  patients with imts of the orbit can present local symptoms as pain  redness  oedema  proptosis  ptosis  oculomotor deficits  diplopia  lid swelling or mass  effect and systemic symptoms due to the general inflammatory disorders they are frequently associated with  mri is superior to ct in the evaluation of inflammation of the nerves and muscles  they usually appear as solid and heterogeneous enhancing masses  which can affect retro bulbar fat  cause bone destruction  and present intracranial extension  when they show low intensity on tweighted images prominent  fibrotic composition is present  fig  a  b axial and coronal mr reformations of the same patient on tweighted sequences showed a well  delimited  hyperintense intraorbital mass  in the intraconal compartment  in the medial aspect  c  d tweighted images demonstrated a hypointense  homogeneous  well  delimited mass with peripheral enhancement after gadolinium injection  f microscopic sample obtained after surgery demonstrated an epithelial tumour composed of fusiform cells mixed with an extensive chronic inflammatory infiltrate of plasmatic cells  lymphocytes and macrophages  in the peripheral of the sample a  b axial and coronal mr reformations of the same patient on tweighted sequences showed a well  delimited  hyperintense intraorbital mass  in the intraconal compartment  in the medial aspect  c  d tweighted images demonstrated a hypointense  homogeneous  well  delimited mass with peripheral enhancement after gadolinium injection  f microscopic sample obtained after surgery demonstrated an epithelial tumour composed of fusiform cells mixed with an extensive chronic inflammatory infiltrate of plasmatic cells  lymphocytes and macrophages  in the peripheral of the sample striated muscle cells were also observed pathologically  imts of the head and neck consist of many fibroblastic cells  fibroblastic cells and inflammatory cells  which include plasma cells and eosinophils  the differential diagnosis includes granulomatous diseases  primary infection  sarcoid  sjgren disease  primary and secondary tumours of the orbit  lymphoma and connective tissue diseases  the administration of corticosteroids an inmunosupresors usually leads to a decrease of size of the mass but also radiotherapy or surgery may be indicated  they account for around the   of benign pulmonary masses in children  representing only about   of all tumours of the lung in general population  as in other organs sometimes  imts are also related with antecedents of lung surgery and they can arise in surgical lung scars  common clinical characteristics include unspecific respiratory symptoms  such as cough  chest pain  dyspnea  haemoptysis and unspecific inflammatory symptoms as fever  malaise and weight loss  they usually appear as solitary  well  circumscribed peripheral lung masses  with predominance for the lower lobes  fig  on ct with intravenous contrast  they present a variable heterogeneous or homogeneous degree of enhancement pattern       it has been described an aggressive behaviour with invasion of the adjacent structures  on mri because of their similar radiological appearance to malignant lung masses  biopsy is necessary to obtain the diagnosisfig  a year  old man with a cough and haemoptysisa axial reformation of non  contrast ct with mediastinum window  two solid  ill  defined nodules in right lower lobe are observed  yellow arrows   b axial reformations with lung window of the same patient where the lung nodules are shown  white arrows   c partial lobectomy of the right lower lobe specimen  note the presence of the nodules     d microscopic study of the resected lung sample where fusiform cells with an associated inflammatory infiltrate of lymphocytes  plasmatic cells and histiocytes was found pathology  imt of the lung  a year  old man with a cough and haemoptysisa axial reformation of non  contrast ct with mediastinum window  two solid  ill  defined nodules in right lower lobe are observed  yellow arrows   b axial reformations with lung window of the same patient where the lung nodules are shown  white arrows   c partial lobectomy of the right lower lobe specimen  note the presence of the nodules     d microscopic study of the resected lung sample where fusiform cells with an associated inflammatory infiltrate of lymphocytes  plasmatic cells and histiocytes was found the treatment of choice of lung imts is surgery to exclude malignancy and to achieve the cure  although spontaneous regression may occur  local expansion may cause significant morbidity and occasional death  the prognosis after complete surgical resection is excellent  with a low rate of recurrence  in these cases  alternative treatments  radiotherapy  corticoids or chemotherapy  to surgery could be also used  only a few cases of imts in the spermatic cord have been reported  the most common presentation of epididymal  fig    and paratesticular imts is a lump in the scrotumfig  pathology  imt of the epididymus  a year  old man with a lump in the scrotum  a a hypoechoic a diffuse infiltrate composed of fibroblastic and fusiform cells mixed with inflammatory cells  mainly lymphocytes and macrophages  was observed pathology  imt of the epididymus  a year  old man with a lump in the scrotum  a a hypoechoic  well  delimited epididymal lesion in the right scrotum was detected  a diffuse infiltrate composed of fibroblastic and fusiform cells mixed with inflammatory cells  mainly lymphocytes and macrophages  was observed in the evaluation of scrotal masses  us is the most accurate imaging technique  helping to distinguish intratesticular from extratesticular lesions and solid from cystic lesions  on ct  they appear as well  defined  hypodense masses with little enhancement after intravenous contrast injection  in some cases  a year  old man with no relevant medical history came to our hospital with a lump in the scrotum  a us showed an isoechoic  solid  paratesticular nodule with fine calcifications  yellow arrow   b axial reformation of contrast  enhanced ct on portal phase demonstrated a well  delimited  heterogeneous  little  enhancing mass in the right scrotum  d microscopic study of the lesion demonstrated a well  delimited lesion constituted of fibroblasts  lymphocytes and plasmatic cells with associated lymphoid follicle  a year  old man with no relevant medical history came to our hospital with a lump in the scrotum  a us showed an isoechoic  solid  paratesticular nodule with fine calcifications  yellow arrow   b axial reformation of contrast  enhanced ct on portal phase demonstrated a well  delimited  heterogeneous  little  enhancing mass in the right scrotum  d microscopic study of the lesion demonstrated a well  delimited lesion constituted of fibroblasts  lymphocytes and plasmatic cells with associated lymphoid follicle  there was no evidence of adjacent testicle invasion surgical resection without orchiectomy is the ideal treatment  but in some cases the testicle must be removed due to the size of the mass or when the mass is attached to the testis  imts of the penis are extremely rare  to our knowledge  no imts at this location have been reported  on ct  this tumour appeared as a well  defined  little  enhancing and non  aggressive mass surrounding the penile urethra and the corpora cavernosa with no evidence of invasion of themfig  a year  old man with a mass in the penis came to our hospital  he related more than  years of slow growth of the mass with no suspicious associated symptoms  c  d axial and coronal reformations of enhanced  ct after the injection of intravenous contrast on portal phase  macroscopic view showed an heterogeneous aspect due to the mixture of tissues  solid tumour  lipoid component and areas of haemorrhage   f microscopic study confirmed a mesenchymal tumour composed of fusiform cells  some of them multinucleated  with round or elongate nucleus  a year  old man with a mass in the penis came to our hospital  he related more than  years of slow growth of the mass with no suspicious associated symptoms  c  d axial and coronal reformations of enhanced  ct after the injection of intravenous contrast on portal phase  macroscopic view showed an heterogeneous aspect due to the mixture of tissues  solid tumour  lipoid component and areas of haemorrhage   f microscopic study confirmed a mesenchymal tumour composed of fusiform cells  some of them multinucleated  with round or elongate nucleus  no mitotic figures were observed surgical treatment was performed due to the size and non  conclusive radiological features of the tumour  hepatic imts constitute an extremely rare group of hepatic tumours  accounting only for the   of all the hepatic lesions  they have been associated with autoimmune diseases  immunological disorders and viral infections  such as igg disease  sclerosing cholangitis  crohns disease  hepatic viral infections and epstein  barr virus  symptoms of hepatic imts depend on their size  on contrast  enhanced ct  they usually show heterogeneous or peripheral enhancement during the arterial phase  despite this  some of them present homogeneous enhancement during the arterial phase and washout during the delayed phase  which can lead to misdiagnosing them as hepatocarcinomas  hccs   fig     on mri  these lesions usually are t hypointense and t hyperintense with heterogeneous enhancement  fig    hepatobiliary contrast  gadoxetate disodium  primovist  bayer healthcare  leverkusen  germany  could be of help to differentiate hcc from imts of the liver  on the hepatobiliary phase  high signal intensity in the centre of the lesion has been described  suggesting a benign lesionfig  well  defined  hypointense lesion on tweighted images  a  which presented weak enhancement in the arterial phase  b  and wash  out on portal and equilibrium phases  c  d  located in hepatic left lobe  f the lesion demostrated an expansive chronic inflammatory infiltrate of plasmatic cells  lymphocytes and macrophages  a abdominal ultrasound where a slightly hypoechoic  solid  heterogeneous mass arising in the left hepatic lobe was observed  axial tweighted unenhanced  b  and contrast  enhanced mr images  c  d  showed an ill  defined with heterogeneous enhancement mass located in lateral hepatic segments  mesenchymal tumour composed of fusiform cells  lymphocytes and lipid  filled macrophages can be observed  normal hepatocytes with large and small fatty droplet change are also present pathology  imt of the liver  well  defined  hypointense lesion on tweighted images  a  which presented weak enhancement in the arterial phase  b  and wash  out on portal and equilibrium phases  c  d  located in hepatic left lobe  e macroscopic view of partial hepatectomy obtained after surgical excision of the lesion  a solid  well  defined and yellowing appearance mass is showed  f the lesion demostrated an expansive chronic inflammatory infiltrate of plasmatic cells  lymphocytes and macrophages  a abdominal ultrasound where a slightly hypoechoic  solid  heterogeneous mass arising in the left hepatic lobe was observed  axial tweighted unenhanced  b  and contrast  enhanced mr images  c  d  showed an ill  defined with heterogeneous enhancement mass located in lateral hepatic segments  mesenchymal tumour composed of fusiform cells  lymphocytes and lipid  filled macrophages can be observed  normal hepatocytes with large and small fatty droplet change are also present surgery is the most accepted treatment  if there is a biopsy  proven diagnosis of imts that excludes malignancy  medical treatment with no steroidal anti  inflammatory drugs in patients with peripheral hepatic imts could be prescribed  patients with spleen imts frequently associate unspecific symptoms as left upper quadrant or epigastric pain  splenomegaly is common and some patients can present fever  anaemia and signs of hypersplenism  different radiological imaging modalities have been proposed for their evaluation  on all of them  they are depicted as low  density masses in both non  enhanced and enhanced acquisitions  fig     on mri studies  they present low  intensity mass on both the t and tweighted images  their typical enhancement pattern after gadolinium injection is as a low  intensity lesion in the early phase  which changes into a high  intensity one in the delayed phase fig  pathology  imt of the spleen  a axial reformation of contrast  enhanced ct on portal phase  prominent cellularity composed of an irregular  weakly basophil set of mioepithelial  fusiform cells  numerous inflammatory cells  plasmatic  lymphocytes and few neutrophils and eosinophils  with isolated macrophages were also found  no atypia or mitotic figures were present pathology  imt of the spleen  a axial reformation of contrast  enhanced ct on portal phase  prominent cellularity composed of an irregular  weakly basophil set of mioepithelial  fusiform cells  numerous inflammatory cells  plasmatic  lymphocytes and few neutrophils and eosinophils  with isolated macrophages were also found  no atypia or mitotic figures were present the differential diagnosis includes splenic haemangioma and other primary splenic neoplasms such as lymphoma or splenic angiosarcoma  when a suspicious spleen mass is found  the treatment of choice is splenectomy due to the high risk of bleeding associated to splenic biopsy       they can arise anywhere  the stomach and small intestine being the most common locations       clinical symptoms may vary from none to abdominal pain  intestinal obstruction  dysphagia or anaemia  depending on the location and size of the mass  contrast  enhanced ct is the imaging technique  which give us more information about of imts of the gastrointestinal tract  they are usually found as hypodense  heterogeneous and well  delimited masses  figs  axial reformation of contrast  enhanced ct on arterial  a   portal  b  and  min after injection delayed  c  acquisitions  a well  defined  heterogeneous nodule with moderate enhancement on portal phase arising from the gastric fundus was found  yellow arrows   d microscopic studies performed after surgical removal of the lesion demonstrated high amount of mesenchymal fusiform cells combined with vascular structures  axial and coronal reformations of contrast  enhanced ct on portal  a  b  and  min after injection delayed acquisitions  c  d   pararectal solid and well  defined mass with moderated peripheral enhancement adjacent to the rectum and left seminal vesicle was detected  mesenchymal neoplasm composed of polygonal cells with clear cytoplasm and round normochromatic nuclei with abundant vessels and occasional scattered inflammatory cells was observed  mixed within the neoplasm cells  there was a chronic inflammatory infiltrate of lymphoid cells  pathology  metastatic imt of the appendix  a year  old man with antecedents of left hemicolectomy due to colon cancer  a axial reformation of contrast  enhanced ct on portal phase acquired seven years after partial colectomy  an appendicular  irregular  solid mass with slight enhancement was identified  yellow arrow   due to its radiological features  b axial reformation of contrast  enhanced ct on portal phase performed  months later showed a significant growth of the appendicular mass with extension and infiltration of the adjacent small bowel loops  axial reformation of contrast  enhanced ct on arterial  a   portal  b  and  min after injection delayed  c  acquisitions  a well  defined  heterogeneous nodule with moderate enhancement on portal phase arising from the gastric fundus was found  yellow arrows   d microscopic studies performed after surgical removal of the lesion demonstrated high amount of mesenchymal fusiform cells combined with vascular structures  the lesion showed well  defined contours and an expansive growth pattern pathology  pararectal imt  axial and coronal reformations of contrast  enhanced ct on portal  a  b  and  min after injection delayed acquisitions  c  d   pararectal solid and well  defined mass with moderated peripheral enhancement adjacent to the rectum and left seminal vesicle was detected  mesenchymal neoplasm composed of polygonal cells with clear cytoplasm and round normochromatic nuclei with abundant vessels and occasional scattered inflammatory cells was observed  mixed within the neoplasm cells  there was a chronic inflammatory infiltrate of lymphoid cells  there were no foci of necrosis or mitotic figures pathology  metastatic imt of the appendix  a year  old man with antecedents of left hemicolectomy due to colon cancer  a axial reformation of contrast  enhanced ct on portal phase acquired seven years after partial colectomy  an appendicular  irregular  solid mass with slight enhancement was identified  yellow arrow   due to its radiological features  b axial reformation of contrast  enhanced ct on portal phase performed  months later showed a significant growth of the appendicular mass with extension and infiltration of the adjacent small bowel loops  c distant lymphadenopathy and liver metastases were present the differential diagnosis of these tumours includes gist  inflammatory fibroid polyp  smooth muscle neoplasm  peripheral nerve sheath tumour  solitary fibrous tumour  fibromatosis  the follicular dendritic cell sarcoma  lymphoma and adenocarcinomas  in most of these cases imts of the gastrointestinal tract present a higher recurrence rate than in other locations of the body  other treatments  such as steroids  non  steroidal anti  inflammatory drugs and thalidomide  have been used in these tumours  radiotherapy may have a place as adjunctive therapy in local recurrence and incomplete surgical removal  imts of the appendix are extremely rare  with few cases reported in the literature         chronic infections  antecedents of trauma or surgery have been proposed as possible aetiological factors  extremely rare cases of imts of the appendix showing local aggressiveness and metastases have been reported  fig  many different aetiological factors have been proposed for mesenteric imts       such as chronic infections  autoimmune diseases and trauma  on contrast  enhanced ct they usually appear as solid masses with heterogeneous enhancement pattern and ill or well  defined margins  they are often associated with a general inflammatory response manifested with fever  weight loss and other symptoms that are related to the compressive effect of the tumour  such as abdominal pain and vomiting  rapidly growing tumours or symptomatic ones needing treatment may follow from small tumours which are not encroaching any nearby structures  different treatments have been proposed  non  steroidal anti  inflammatories  anti  oestrogens  chemotherapeutic agents and surgery  surgery remains as a useful modality although quite a high local recurrence rate has been described for tumours         the symptoms that most often appear include pain  haematuria  dysuria or urinary tract obstruction  the radiological features do not help to distinguish them from malignant neoplasms  such as rabdomyosarcomas  fig   fine  needle biopsy may fail to yield a sufficient volume of tumour tissue to achieve diagnosisfig  a axial and b coronal reformations of contrast  enhanced ct where an ill  defined and heterogeneous mass encompassing iliopsoas muscle and external iliac vessels  mimicking malignant sarcomatous neoplasm was observed  proliferation of fibroblast with a diffuse infiltration of lymphocytes  eosinophils and macrophages were found  the mass was well  defined and no signs of invasiveness were found pathology  imt of the iliopsoas muscle  a axial and b coronal reformations of contrast  enhanced ct where an ill  defined and heterogeneous mass encompassing iliopsoas muscle and external iliac vessels  mimicking malignant sarcomatous neoplasm was observed  proliferation of fibroblast with a diffuse infiltration of lymphocytes  eosinophils and macrophages were found  no mitotic figures or cellular atypia were present  imts have been reported in various sites in the head and neck such as bucal space  maxillary sinus  nasal cavity  parotid gland  nasopharynx and larynx  fig  pathology  imt in the left supraglottic space  arrow  with paraglottic space involvement indicated by replacement of the paraglottic fat with soft tissue  a axial reformation of contrast  enhanced neck ct  a solid  well  defined  normal tissue was present in the peripheral zone    pathology  imt in the left supraglottic space  arrow  with paraglottic space involvement indicated by replacement of the paraglottic fat with soft tissue  a axial reformation of contrast  enhanced neck ct  a solid  well  defined  little  enhancing nodule in the supraglottic larynx was observed  yellow arrow   b microscopic study obtained after surgical removal of the lesion  the sample showed proliferation of fusiform cells mixed with macrophages and giant multinucleated cells  normal tissue was present in the peripheral zone    however  the orbit is the most common location of imts  they account for approximately   of orbital masses  being the third most common cause of orbital masses  their aetiology is unknown  but they have been associated with inmunological disorders  different infections and history of trauma  recently  they have been strongly associated with the iggrelated sclerosing systemic inflammatory disease and with chronic infection by epstein  barr virus  the clinical presentation and symptoms may vary with the location  extension and aggressiveness of the tumour  patients with imts of the orbit can present local symptoms as pain  redness  oedema  proptosis  ptosis  oculomotor deficits  diplopia  lid swelling or mass  effect and systemic symptoms due to the general inflammatory disorders they are frequently associated with  mri is superior to ct in the evaluation of inflammation of the nerves and muscles  they usually appear as solid and heterogeneous enhancing masses  which can affect retro bulbar fat  cause bone destruction  and present intracranial extension  when they show low intensity on tweighted images prominent  fibrotic composition is present  fig  a  b axial and coronal mr reformations of the same patient on tweighted sequences showed a well  delimited  hyperintense intraorbital mass  in the intraconal compartment  in the medial aspect  c  d tweighted images demonstrated a hypointense  homogeneous  well  delimited mass with peripheral enhancement after gadolinium injection  f microscopic sample obtained after surgery demonstrated an epithelial tumour composed of fusiform cells mixed with an extensive chronic inflammatory infiltrate of plasmatic cells  lymphocytes and macrophages  in the peripheral of the sample a  b axial and coronal mr reformations of the same patient on tweighted sequences showed a well  delimited  hyperintense intraorbital mass  in the intraconal compartment  in the medial aspect  c  d tweighted images demonstrated a hypointense  homogeneous  well  delimited mass with peripheral enhancement after gadolinium injection  f microscopic sample obtained after surgery demonstrated an epithelial tumour composed of fusiform cells mixed with an extensive chronic inflammatory infiltrate of plasmatic cells  lymphocytes and macrophages  in the peripheral of the sample striated muscle cells were also observed pathologically  imts of the head and neck consist of many fibroblastic cells  fibroblastic cells and inflammatory cells  which include plasma cells and eosinophils  the differential diagnosis includes granulomatous diseases  primary infection  sarcoid  sjgren disease  primary and secondary tumours of the orbit  lymphoma and connective tissue diseases  the administration of corticosteroids an inmunosupresors usually leads to a decrease of size of the mass but also radiotherapy or surgery may be indicated   they account for around the   of benign pulmonary masses in children  representing only about   of all tumours of the lung in general population  as in other organs  they are also associated with immunological disorders and chronic infections  sometimes  imts are also related with antecedents of lung surgery and they can arise in surgical lung scars  common clinical characteristics include unspecific respiratory symptoms  such as cough  chest pain  dyspnea  haemoptysis and unspecific inflammatory symptoms as fever  malaise and weight loss  they usually appear as solitary  well  circumscribed peripheral lung masses  with predominance for the lower lobes  fig  on ct with intravenous contrast  they present a variable heterogeneous or homogeneous degree of enhancement pattern       it has been described an aggressive behaviour with invasion of the adjacent structures  on mri because of their similar radiological appearance to malignant lung masses  biopsy is necessary to obtain the diagnosisfig  a year  old man with a cough and haemoptysisa axial reformation of non  contrast ct with mediastinum window  two solid  ill  defined nodules in right lower lobe are observed  yellow arrows   b axial reformations with lung window of the same patient where the lung nodules are shown  white arrows   c partial lobectomy of the right lower lobe specimen  note the presence of the nodules     d microscopic study of the resected lung sample where fusiform cells with an associated inflammatory infiltrate of lymphocytes  plasmatic cells and histiocytes was found pathology  imt of the lung  a year  old man with a cough and haemoptysisa axial reformation of non  contrast ct with mediastinum window  two solid  ill  defined nodules in right lower lobe are observed  yellow arrows   note the air brocogram observed in the biggest mass  b axial reformations with lung window of the same patient where the lung nodules are shown  white arrows   d microscopic study of the resected lung sample where fusiform cells with an associated inflammatory infiltrate of lymphocytes  plasmatic cells and histiocytes was found the treatment of choice of lung imts is surgery to exclude malignancy and to achieve the cure  although spontaneous regression may occur  local expansion may cause significant morbidity and occasional death  the prognosis after complete surgical resection is excellent  with a low rate of recurrence  in these cases  alternative treatments  radiotherapy  corticoids or chemotherapy  to surgery could be also used  the most common presentation of epididymal  fig    and paratesticular imts is a lump in the scrotumfig  pathology  imt of the epididymus  a year  old man with a lump in the scrotum  a a hypoechoic a diffuse infiltrate composed of fibroblastic and fusiform cells mixed with inflammatory cells  mainly lymphocytes and macrophages  was observed pathology  imt of the epididymus  a year  old man with a lump in the scrotum  a a hypoechoic  well  delimited epididymal lesion in the right scrotum was detected  a diffuse infiltrate composed of fibroblastic and fusiform cells mixed with inflammatory cells  mainly lymphocytes and macrophages  was observed in the evaluation of scrotal masses  us is the most accurate imaging technique  helping to distinguish intratesticular from extratesticular lesions and solid from cystic lesions  on ct  they appear as well  defined  hypodense masses with little enhancement after intravenous contrast injection  in some cases  a year  old man with no relevant medical history came to our hospital with a lump in the scrotum  a us showed an isoechoic  solid  paratesticular nodule with fine calcifications  yellow arrow   b axial reformation of contrast  enhanced ct on portal phase demonstrated a well  delimited  heterogeneous  little  enhancing mass in the right scrotum  d microscopic study of the lesion demonstrated a well  delimited lesion constituted of fibroblasts  lymphocytes and plasmatic cells with associated lymphoid follicle  a year  old man with no relevant medical history came to our hospital with a lump in the scrotum  a us showed an isoechoic  solid  paratesticular nodule with fine calcifications  yellow arrow   b axial reformation of contrast  enhanced ct on portal phase demonstrated a well  delimited  heterogeneous  little  enhancing mass in the right scrotum  d microscopic study of the lesion demonstrated a well  delimited lesion constituted of fibroblasts  lymphocytes and plasmatic cells with associated lymphoid follicle  there was no evidence of adjacent testicle invasion surgical resection without orchiectomy is the ideal treatment  but in some cases the testicle must be removed due to the size of the mass or when the mass is attached to the testis  imts of the penis are extremely rare  to our knowledge  no imts at this location have been reported  we have recorded only one case in our institution  fig     on ct  this tumour appeared as a well  defined  little  enhancing and non  aggressive mass surrounding the penile urethra and the corpora cavernosa with no evidence of invasion of themfig  a year  old man with a mass in the penis came to our hospital  he related more than  years of slow growth of the mass with no suspicious associated symptoms  c  d axial and coronal reformations of enhanced  ct after the injection of intravenous contrast on portal phase  macroscopic view showed an heterogeneous aspect due to the mixture of tissues  solid tumour  lipoid component and areas of haemorrhage   f microscopic study confirmed a mesenchymal tumour composed of fusiform cells  some of them multinucleated  with round or elongate nucleus  a year  old man with a mass in the penis came to our hospital  he related more than  years of slow growth of the mass with no suspicious associated symptoms  c  d axial and coronal reformations of enhanced  ct after the injection of intravenous contrast on portal phase  macroscopic view showed an heterogeneous aspect due to the mixture of tissues  solid tumour  lipoid component and areas of haemorrhage   f microscopic study confirmed a mesenchymal tumour composed of fusiform cells  some of them multinucleated  with round or elongate nucleus  no mitotic figures were observed surgical treatment was performed due to the size and non  conclusive radiological features of the tumour  hepatic imts constitute an extremely rare group of hepatic tumours  accounting only for the   of all the hepatic lesions  they have been associated with autoimmune diseases  immunological disorders and viral infections  such as igg disease  sclerosing cholangitis  crohns disease  hepatic viral infections and epstein  barr virus  on contrast  enhanced ct  they usually show heterogeneous or peripheral enhancement during the arterial phase  despite this  some of them present homogeneous enhancement during the arterial phase and washout during the delayed phase  which can lead to misdiagnosing them as hepatocarcinomas  hccs   fig     on mri  these lesions usually are t hypointense and t hyperintense with heterogeneous enhancement  fig    hepatobiliary contrast  gadoxetate disodium  primovist  bayer healthcare  leverkusen  germany  could be of help to differentiate hcc from imts of the liver  on the hepatobiliary phase  high signal intensity in the centre of the lesion has been described  suggesting a benign lesionfig  well  defined  hypointense lesion on tweighted images  a  which presented weak enhancement in the arterial phase  b  and wash  out on portal and equilibrium phases  c  d  located in hepatic left lobe  f the lesion demostrated an expansive chronic inflammatory infiltrate of plasmatic cells  lymphocytes and macrophages  a abdominal ultrasound where a slightly hypoechoic  solid  heterogeneous mass arising in the left hepatic lobe was observed  axial tweighted unenhanced  b  and contrast  enhanced mr images  c  d  showed an ill  defined with heterogeneous enhancement mass located in lateral hepatic segments  mesenchymal tumour composed of fusiform cells  lymphocytes and lipid  filled macrophages can be observed  normal hepatocytes with large and small fatty droplet change are also present pathology  imt of the liver  well  defined  hypointense lesion on tweighted images  a  which presented weak enhancement in the arterial phase  b  and wash  out on portal and equilibrium phases  c  d  located in hepatic left lobe  e macroscopic view of partial hepatectomy obtained after surgical excision of the lesion  a solid  well  defined and yellowing appearance mass is showed  f the lesion demostrated an expansive chronic inflammatory infiltrate of plasmatic cells  lymphocytes and macrophages  a abdominal ultrasound where a slightly hypoechoic  solid  heterogeneous mass arising in the left hepatic lobe was observed  axial tweighted unenhanced  b  and contrast  enhanced mr images  c  d  showed an ill  defined with heterogeneous enhancement mass located in lateral hepatic segments  mesenchymal tumour composed of fusiform cells  lymphocytes and lipid  filled macrophages can be observed  normal hepatocytes with large and small fatty droplet change are also present surgery is the most accepted treatment  if there is a biopsy  proven diagnosis of imts that excludes malignancy  medical treatment with no steroidal anti  inflammatory drugs in patients with peripheral hepatic imts could be prescribed  patients with spleen imts frequently associate unspecific symptoms as left upper quadrant or epigastric pain  splenomegaly is common and some patients can present fever  anaemia and signs of hypersplenism  different radiological imaging modalities have been proposed for their evaluation  on all of them  they are depicted as low  density masses in both non  enhanced and enhanced acquisitions  fig  their typical enhancement pattern after gadolinium injection is as a low  intensity lesion in the early phase  which changes into a high  intensity one in the delayed phase fig  pathology  imt of the spleen  a axial reformation of contrast  enhanced ct on portal phase  prominent cellularity composed of an irregular  weakly basophil set of mioepithelial  fusiform cells  numerous inflammatory cells  plasmatic  lymphocytes and few neutrophils and eosinophils  with isolated macrophages were also found  no atypia or mitotic figures were present pathology  imt of the spleen  a axial reformation of contrast  enhanced ct on portal phase  prominent cellularity composed of an irregular  weakly basophil set of mioepithelial  fusiform cells  numerous inflammatory cells  plasmatic  lymphocytes and few neutrophils and eosinophils  with isolated macrophages were also found  no atypia or mitotic figures were present the differential diagnosis includes splenic haemangioma and other primary splenic neoplasms such as lymphoma or splenic angiosarcoma  when a suspicious spleen mass is found  the treatment of choice is splenectomy due to the high risk of bleeding associated to splenic biopsy       they can arise anywhere  the stomach and small intestine being the most common locations       clinical symptoms may vary from none to abdominal pain  intestinal obstruction  dysphagia or anaemia  depending on the location and size of the mass  contrast  enhanced ct is the imaging technique  which give us more information about of imts of the gastrointestinal tract  they are usually found as hypodense  heterogeneous and well  delimited masses  figs  axial reformation of contrast  enhanced ct on arterial  a   portal  b  and  min after injection delayed  c  acquisitions  a well  defined  heterogeneous nodule with moderate enhancement on portal phase arising from the gastric fundus was found  yellow arrows   d microscopic studies performed after surgical removal of the lesion demonstrated high amount of mesenchymal fusiform cells combined with vascular structures  axial and coronal reformations of contrast  enhanced ct on portal  a  b  and  min after injection delayed acquisitions  c  d   pararectal solid and well  defined mass with moderated peripheral enhancement adjacent to the rectum and left seminal vesicle was detected  e macroscopic view of the tumour after surgical resection  f histological sample obtained after biopsy  mesenchymal neoplasm composed of polygonal cells with clear cytoplasm and round normochromatic nuclei with abundant vessels and occasional scattered inflammatory cells was observed  mixed within the neoplasm cells  there was a chronic inflammatory infiltrate of lymphoid cells  pathology  metastatic imt of the appendix  a year  old man with antecedents of left hemicolectomy due to colon cancer  a axial reformation of contrast  enhanced ct on portal phase acquired seven years after partial colectomy  an appendicular  irregular  solid mass with slight enhancement was identified  yellow arrow   due to its radiological features  b axial reformation of contrast  enhanced ct on portal phase performed  months later showed a significant growth of the appendicular mass with extension and infiltration of the adjacent small bowel loops  axial reformation of contrast  enhanced ct on arterial  a   portal  b  and  min after injection delayed  c  acquisitions  a well  defined  heterogeneous nodule with moderate enhancement on portal phase arising from the gastric fundus was found  yellow arrows   d microscopic studies performed after surgical removal of the lesion demonstrated high amount of mesenchymal fusiform cells combined with vascular structures  the lesion showed well  defined contours and an expansive growth pattern pathology  pararectal imt  axial and coronal reformations of contrast  enhanced ct on portal  a  b  and  min after injection delayed acquisitions  c  d   pararectal solid and well  defined mass with moderated peripheral enhancement adjacent to the rectum and left seminal vesicle was detected  mesenchymal neoplasm composed of polygonal cells with clear cytoplasm and round normochromatic nuclei with abundant vessels and occasional scattered inflammatory cells was observed  mixed within the neoplasm cells  there was a chronic inflammatory infiltrate of lymphoid cells  there were no foci of necrosis or mitotic figures pathology  metastatic imt of the appendix  a year  old man with antecedents of left hemicolectomy due to colon cancer  a axial reformation of contrast  enhanced ct on portal phase acquired seven years after partial colectomy  an appendicular  irregular  solid mass with slight enhancement was identified  yellow arrow   due to its radiological features  b axial reformation of contrast  enhanced ct on portal phase performed  months later showed a significant growth of the appendicular mass with extension and infiltration of the adjacent small bowel loops  c distant lymphadenopathy and liver metastases were present the differential diagnosis of these tumours includes gist  inflammatory fibroid polyp  smooth muscle neoplasm  peripheral nerve sheath tumour  solitary fibrous tumour  fibromatosis  the follicular dendritic cell sarcoma  lymphoma and adenocarcinomas  in most of these cases imaging features are not enough to diagnose imts and biopsy or surgery are needed  imts of the gastrointestinal tract present a higher recurrence rate than in other locations of the body  other treatments  such as steroids  non  steroidal anti  inflammatory drugs and thalidomide  have been used in these tumours  radiotherapy may have a place as adjunctive therapy in local recurrence and incomplete surgical removal  imts of the appendix are extremely rare  with few cases reported in the literature         chronic infections  antecedents of trauma or surgery have been proposed as possible aetiological factors  extremely rare cases of imts of the appendix showing local aggressiveness and metastases have been reported  fig  many different aetiological factors have been proposed for mesenteric imts       such as chronic infections  autoimmune diseases and trauma  on contrast  enhanced ct they usually appear as solid masses with heterogeneous enhancement pattern and ill or well  defined margins  they are often associated with a general inflammatory response manifested with fever  weight loss and other symptoms that are related to the compressive effect of the tumour  such as abdominal pain and vomiting  rapidly growing tumours or symptomatic ones needing treatment may follow from small tumours which are not encroaching any nearby structures  different treatments have been proposed  non  steroidal anti  inflammatories  anti  oestrogens  chemotherapeutic agents and surgery  surgery remains as a useful modality although quite a high local recurrence rate has been described for tumours         the symptoms that most often appear include pain  haematuria  dysuria or urinary tract obstruction  the radiological features do not help to distinguish them from malignant neoplasms  such as rabdomyosarcomas  fig   fine  needle biopsy may fail to yield a sufficient volume of tumour tissue to achieve diagnosisfig  a axial and b coronal reformations of contrast  enhanced ct where an ill  defined and heterogeneous mass encompassing iliopsoas muscle and external iliac vessels  mimicking malignant sarcomatous neoplasm was observed  proliferation of fibroblast with a diffuse infiltration of lymphocytes  eosinophils and macrophages were found  no mitotic figures or cellular the mass was well  defined and no signs of invasiveness were found pathology  imt of the iliopsoas muscle  a axial and b coronal reformations of contrast  enhanced ct where an ill  defined and heterogeneous mass encompassing iliopsoas muscle and external iliac vessels  mimicking malignant sarcomatous neoplasm was observed  proliferation of fibroblast with a diffuse infiltration of lymphocytes  eosinophils and macrophages were found  no mitotic figures or cellular although imts in some organs are not uncommon  they are not usually included in the differential diagnosis of nodules and masses  consequently  this is an underdiagnosed entity and only after an histological exam could definitive diagnosis be achieved  it is fundamental for radiologists to know about the existence of imts  as they frequently have better treatment options and prognosis than the malignant neoplasms they are confused with\",\n",
    "\n",
    "\"\"\"\n",
    "\n",
    "summary = generateSummary(new_article_text)\n",
    "print(\"Generated Summary:\", summary)\n"
   ]
  },
  {
   "cell_type": "code",
   "execution_count": null,
   "id": "084b690c-fdbc-44c2-9ddb-59e98836fea4",
   "metadata": {},
   "outputs": [],
   "source": []
  },
  {
   "cell_type": "code",
   "execution_count": null,
   "id": "0790af18-76f7-4659-9e3e-62da99dc6ee4",
   "metadata": {},
   "outputs": [],
   "source": []
  },
  {
   "cell_type": "code",
   "execution_count": null,
   "id": "61add8ca-b3fc-4b6d-8e22-d64d84431e01",
   "metadata": {},
   "outputs": [],
   "source": []
  },
  {
   "cell_type": "code",
   "execution_count": null,
   "id": "d842d74b-e25d-4e36-b1a6-048f1ae5fb8a",
   "metadata": {},
   "outputs": [],
   "source": []
  },
  {
   "cell_type": "code",
   "execution_count": null,
   "id": "5916e28f-198a-40fa-93e7-7540504c7997",
   "metadata": {},
   "outputs": [],
   "source": []
  },
  {
   "cell_type": "code",
   "execution_count": null,
   "id": "3f433808-b32a-4ed7-8833-9141c96c4983",
   "metadata": {},
   "outputs": [],
   "source": []
  },
  {
   "cell_type": "code",
   "execution_count": null,
   "id": "56871df6-f4bc-4dee-a749-1b638b407fa7",
   "metadata": {},
   "outputs": [],
   "source": []
  },
  {
   "cell_type": "code",
   "execution_count": null,
   "id": "81010718-c023-49c5-840d-121b3c73a381",
   "metadata": {},
   "outputs": [],
   "source": []
  },
  {
   "cell_type": "code",
   "execution_count": null,
   "id": "a7f968fa-a17c-4250-8720-3c43bed7cd6e",
   "metadata": {},
   "outputs": [],
   "source": []
  },
  {
   "cell_type": "code",
   "execution_count": null,
   "id": "be1ac01c-13bc-4f05-9517-846f7afd8650",
   "metadata": {},
   "outputs": [],
   "source": []
  },
  {
   "cell_type": "code",
   "execution_count": null,
   "id": "3f7f8215-6f29-4cdf-a9bf-73c9507d31c2",
   "metadata": {},
   "outputs": [],
   "source": []
  },
  {
   "cell_type": "code",
   "execution_count": null,
   "id": "c3a4d998-a080-41a6-a088-a0fd481dca8e",
   "metadata": {},
   "outputs": [],
   "source": []
  },
  {
   "cell_type": "code",
   "execution_count": null,
   "id": "1c03cb96-db09-4208-a9ef-a7d95a9e15e2",
   "metadata": {},
   "outputs": [],
   "source": []
  },
  {
   "cell_type": "code",
   "execution_count": null,
   "id": "5167fc1b-a438-4a40-8859-034572f6128d",
   "metadata": {},
   "outputs": [],
   "source": []
  },
  {
   "cell_type": "code",
   "execution_count": null,
   "id": "1606400c-f003-4106-b928-bb937c8df743",
   "metadata": {},
   "outputs": [],
   "source": []
  },
  {
   "cell_type": "code",
   "execution_count": null,
   "id": "1b63b76a-41c8-491d-81af-af5dcede1bd0",
   "metadata": {},
   "outputs": [],
   "source": []
  },
  {
   "cell_type": "code",
   "execution_count": null,
   "id": "994cfe35-2b42-4286-a984-0944dcb73375",
   "metadata": {},
   "outputs": [],
   "source": []
  },
  {
   "cell_type": "code",
   "execution_count": null,
   "id": "ddb78d64-d931-49c9-a0ae-a5fcfb6eb2f1",
   "metadata": {},
   "outputs": [],
   "source": []
  },
  {
   "cell_type": "code",
   "execution_count": null,
   "id": "7bd96aed-eb08-4ea1-9384-238de44bfdf0",
   "metadata": {},
   "outputs": [],
   "source": []
  },
  {
   "cell_type": "code",
   "execution_count": null,
   "id": "bfc6dbaf-cae4-4e50-829c-50448984a758",
   "metadata": {},
   "outputs": [],
   "source": []
  },
  {
   "cell_type": "code",
   "execution_count": null,
   "id": "80eb202a-38ab-4b42-a6af-60791c3af836",
   "metadata": {},
   "outputs": [],
   "source": []
  },
  {
   "cell_type": "code",
   "execution_count": null,
   "id": "6887750d-0bcc-4bb3-8109-65223f1e5e5f",
   "metadata": {},
   "outputs": [],
   "source": []
  },
  {
   "cell_type": "code",
   "execution_count": null,
   "id": "99daa0ee-0f4b-4a61-a472-b08660608042",
   "metadata": {},
   "outputs": [],
   "source": []
  },
  {
   "cell_type": "code",
   "execution_count": null,
   "id": "5a99c28a-fd37-4873-9a0b-e38ebfab68bd",
   "metadata": {},
   "outputs": [],
   "source": []
  },
  {
   "cell_type": "code",
   "execution_count": null,
   "id": "df11d7ac-9ac8-4587-b046-013622d31bd9",
   "metadata": {},
   "outputs": [],
   "source": []
  },
  {
   "cell_type": "code",
   "execution_count": null,
   "id": "76725f09-0cf6-4ac6-85fb-90880c506d1a",
   "metadata": {},
   "outputs": [],
   "source": []
  },
  {
   "cell_type": "code",
   "execution_count": 5,
   "id": "4a08a28a-0b47-4729-97aa-400f9421cba0",
   "metadata": {},
   "outputs": [
    {
     "ename": "SyntaxError",
     "evalue": "invalid syntax (4075987369.py, line 7)",
     "output_type": "error",
     "traceback": [
      "\u001b[1;36m  Cell \u001b[1;32mIn[5], line 7\u001b[1;36m\u001b[0m\n\u001b[1;33m    <!DOCTYPE html>\u001b[0m\n\u001b[1;37m    ^\u001b[0m\n\u001b[1;31mSyntaxError\u001b[0m\u001b[1;31m:\u001b[0m invalid syntax\n"
     ]
    }
   ],
   "source": []
  },
  {
   "cell_type": "code",
   "execution_count": 1,
   "id": "e326630a-c456-4c0c-bfd1-27337809262c",
   "metadata": {},
   "outputs": [
    {
     "name": "stderr",
     "output_type": "stream",
     "text": [
      "C:\\ProgramData\\anaconda3\\envs\\pubMed\\lib\\site-packages\\transformers\\utils\\generic.py:311: UserWarning: torch.utils._pytree._register_pytree_node is deprecated. Please use torch.utils._pytree.register_pytree_node instead.\n",
      "  torch.utils._pytree._register_pytree_node(\n",
      "C:\\ProgramData\\anaconda3\\envs\\pubMed\\lib\\site-packages\\transformers\\utils\\generic.py:311: UserWarning: torch.utils._pytree._register_pytree_node is deprecated. Please use torch.utils._pytree.register_pytree_node instead.\n",
      "  torch.utils._pytree._register_pytree_node(\n"
     ]
    },
    {
     "name": "stdout",
     "output_type": "stream",
     "text": [
      "Generated Summary:\n",
      "example article want summarize contain multiple sentence special character like comma period text include number web link comma period text comma period text include number web link comma period text comma period text comma period text comma period text comma period text comma period text comma period text comma period text comma period text comma period text comma period text comma period text comma period\n"
     ]
    }
   ],
   "source": []
  },
  {
   "cell_type": "code",
   "execution_count": 2,
   "id": "38abea77-7680-42a8-ad70-2cf63cb74d53",
   "metadata": {},
   "outputs": [
    {
     "name": "stderr",
     "output_type": "stream",
     "text": [
      "2024-06-24 03:11:02.539 \n",
      "  \u001b[33m\u001b[1mWarning:\u001b[0m to view this Streamlit app on a browser, run it with the following\n",
      "  command:\n",
      "\n",
      "    streamlit run C:\\ProgramData\\anaconda3\\envs\\pubMed\\lib\\site-packages\\ipykernel_launcher.py [ARGUMENTS]\n",
      "2024-06-24 03:11:02.540 Session state does not function when running a script without `streamlit run`\n"
     ]
    }
   ],
   "source": []
  },
  {
   "cell_type": "code",
   "execution_count": 2,
   "id": "22d1a102-cce1-4fba-a1a8-e18666250db4",
   "metadata": {},
   "outputs": [
    {
     "ename": "ReaderError",
     "evalue": "unacceptable character #x0000: special characters are not allowed\n  in \"environment.yml\", position 3",
     "output_type": "error",
     "traceback": [
      "\u001b[1;31m---------------------------------------------------------------------------\u001b[0m",
      "\u001b[1;31mReaderError\u001b[0m                               Traceback (most recent call last)",
      "Cell \u001b[1;32mIn[2], line 5\u001b[0m\n\u001b[0;32m      3\u001b[0m \u001b[38;5;66;03m# Load the environment.yml file\u001b[39;00m\n\u001b[0;32m      4\u001b[0m \u001b[38;5;28;01mwith\u001b[39;00m \u001b[38;5;28mopen\u001b[39m(\u001b[38;5;124m'\u001b[39m\u001b[38;5;124menvironment.yml\u001b[39m\u001b[38;5;124m'\u001b[39m, \u001b[38;5;124m'\u001b[39m\u001b[38;5;124mr\u001b[39m\u001b[38;5;124m'\u001b[39m) \u001b[38;5;28;01mas\u001b[39;00m file:\n\u001b[1;32m----> 5\u001b[0m     env \u001b[38;5;241m=\u001b[39m \u001b[43myaml\u001b[49m\u001b[38;5;241;43m.\u001b[39;49m\u001b[43msafe_load\u001b[49m\u001b[43m(\u001b[49m\u001b[43mfile\u001b[49m\u001b[43m)\u001b[49m\n\u001b[0;32m      7\u001b[0m \u001b[38;5;66;03m# Extract the dependencies\u001b[39;00m\n\u001b[0;32m      8\u001b[0m dependencies \u001b[38;5;241m=\u001b[39m env[\u001b[38;5;124m'\u001b[39m\u001b[38;5;124mdependencies\u001b[39m\u001b[38;5;124m'\u001b[39m]\n",
      "File \u001b[1;32mC:\\ProgramData\\anaconda3\\envs\\pubMed\\lib\\site-packages\\yaml\\__init__.py:125\u001b[0m, in \u001b[0;36msafe_load\u001b[1;34m(stream)\u001b[0m\n\u001b[0;32m    117\u001b[0m \u001b[38;5;28;01mdef\u001b[39;00m \u001b[38;5;21msafe_load\u001b[39m(stream):\n\u001b[0;32m    118\u001b[0m \u001b[38;5;250m    \u001b[39m\u001b[38;5;124;03m\"\"\"\u001b[39;00m\n\u001b[0;32m    119\u001b[0m \u001b[38;5;124;03m    Parse the first YAML document in a stream\u001b[39;00m\n\u001b[0;32m    120\u001b[0m \u001b[38;5;124;03m    and produce the corresponding Python object.\u001b[39;00m\n\u001b[1;32m   (...)\u001b[0m\n\u001b[0;32m    123\u001b[0m \u001b[38;5;124;03m    to be safe for untrusted input.\u001b[39;00m\n\u001b[0;32m    124\u001b[0m \u001b[38;5;124;03m    \"\"\"\u001b[39;00m\n\u001b[1;32m--> 125\u001b[0m     \u001b[38;5;28;01mreturn\u001b[39;00m \u001b[43mload\u001b[49m\u001b[43m(\u001b[49m\u001b[43mstream\u001b[49m\u001b[43m,\u001b[49m\u001b[43m \u001b[49m\u001b[43mSafeLoader\u001b[49m\u001b[43m)\u001b[49m\n",
      "File \u001b[1;32mC:\\ProgramData\\anaconda3\\envs\\pubMed\\lib\\site-packages\\yaml\\__init__.py:79\u001b[0m, in \u001b[0;36mload\u001b[1;34m(stream, Loader)\u001b[0m\n\u001b[0;32m     74\u001b[0m \u001b[38;5;28;01mdef\u001b[39;00m \u001b[38;5;21mload\u001b[39m(stream, Loader):\n\u001b[0;32m     75\u001b[0m \u001b[38;5;250m    \u001b[39m\u001b[38;5;124;03m\"\"\"\u001b[39;00m\n\u001b[0;32m     76\u001b[0m \u001b[38;5;124;03m    Parse the first YAML document in a stream\u001b[39;00m\n\u001b[0;32m     77\u001b[0m \u001b[38;5;124;03m    and produce the corresponding Python object.\u001b[39;00m\n\u001b[0;32m     78\u001b[0m \u001b[38;5;124;03m    \"\"\"\u001b[39;00m\n\u001b[1;32m---> 79\u001b[0m     loader \u001b[38;5;241m=\u001b[39m \u001b[43mLoader\u001b[49m\u001b[43m(\u001b[49m\u001b[43mstream\u001b[49m\u001b[43m)\u001b[49m\n\u001b[0;32m     80\u001b[0m     \u001b[38;5;28;01mtry\u001b[39;00m:\n\u001b[0;32m     81\u001b[0m         \u001b[38;5;28;01mreturn\u001b[39;00m loader\u001b[38;5;241m.\u001b[39mget_single_data()\n",
      "File \u001b[1;32mC:\\ProgramData\\anaconda3\\envs\\pubMed\\lib\\site-packages\\yaml\\loader.py:34\u001b[0m, in \u001b[0;36mSafeLoader.__init__\u001b[1;34m(self, stream)\u001b[0m\n\u001b[0;32m     33\u001b[0m \u001b[38;5;28;01mdef\u001b[39;00m \u001b[38;5;21m__init__\u001b[39m(\u001b[38;5;28mself\u001b[39m, stream):\n\u001b[1;32m---> 34\u001b[0m     \u001b[43mReader\u001b[49m\u001b[38;5;241;43m.\u001b[39;49m\u001b[38;5;21;43m__init__\u001b[39;49m\u001b[43m(\u001b[49m\u001b[38;5;28;43mself\u001b[39;49m\u001b[43m,\u001b[49m\u001b[43m \u001b[49m\u001b[43mstream\u001b[49m\u001b[43m)\u001b[49m\n\u001b[0;32m     35\u001b[0m     Scanner\u001b[38;5;241m.\u001b[39m\u001b[38;5;21m__init__\u001b[39m(\u001b[38;5;28mself\u001b[39m)\n\u001b[0;32m     36\u001b[0m     Parser\u001b[38;5;241m.\u001b[39m\u001b[38;5;21m__init__\u001b[39m(\u001b[38;5;28mself\u001b[39m)\n",
      "File \u001b[1;32mC:\\ProgramData\\anaconda3\\envs\\pubMed\\lib\\site-packages\\yaml\\reader.py:85\u001b[0m, in \u001b[0;36mReader.__init__\u001b[1;34m(self, stream)\u001b[0m\n\u001b[0;32m     83\u001b[0m \u001b[38;5;28mself\u001b[39m\u001b[38;5;241m.\u001b[39meof \u001b[38;5;241m=\u001b[39m \u001b[38;5;28;01mFalse\u001b[39;00m\n\u001b[0;32m     84\u001b[0m \u001b[38;5;28mself\u001b[39m\u001b[38;5;241m.\u001b[39mraw_buffer \u001b[38;5;241m=\u001b[39m \u001b[38;5;28;01mNone\u001b[39;00m\n\u001b[1;32m---> 85\u001b[0m \u001b[38;5;28;43mself\u001b[39;49m\u001b[38;5;241;43m.\u001b[39;49m\u001b[43mdetermine_encoding\u001b[49m\u001b[43m(\u001b[49m\u001b[43m)\u001b[49m\n",
      "File \u001b[1;32mC:\\ProgramData\\anaconda3\\envs\\pubMed\\lib\\site-packages\\yaml\\reader.py:135\u001b[0m, in \u001b[0;36mReader.determine_encoding\u001b[1;34m(self)\u001b[0m\n\u001b[0;32m    133\u001b[0m         \u001b[38;5;28mself\u001b[39m\u001b[38;5;241m.\u001b[39mraw_decode \u001b[38;5;241m=\u001b[39m codecs\u001b[38;5;241m.\u001b[39mutf_8_decode\n\u001b[0;32m    134\u001b[0m         \u001b[38;5;28mself\u001b[39m\u001b[38;5;241m.\u001b[39mencoding \u001b[38;5;241m=\u001b[39m \u001b[38;5;124m'\u001b[39m\u001b[38;5;124mutf-8\u001b[39m\u001b[38;5;124m'\u001b[39m\n\u001b[1;32m--> 135\u001b[0m \u001b[38;5;28;43mself\u001b[39;49m\u001b[38;5;241;43m.\u001b[39;49m\u001b[43mupdate\u001b[49m\u001b[43m(\u001b[49m\u001b[38;5;241;43m1\u001b[39;49m\u001b[43m)\u001b[49m\n",
      "File \u001b[1;32mC:\\ProgramData\\anaconda3\\envs\\pubMed\\lib\\site-packages\\yaml\\reader.py:169\u001b[0m, in \u001b[0;36mReader.update\u001b[1;34m(self, length)\u001b[0m\n\u001b[0;32m    167\u001b[0m     data \u001b[38;5;241m=\u001b[39m \u001b[38;5;28mself\u001b[39m\u001b[38;5;241m.\u001b[39mraw_buffer\n\u001b[0;32m    168\u001b[0m     converted \u001b[38;5;241m=\u001b[39m \u001b[38;5;28mlen\u001b[39m(data)\n\u001b[1;32m--> 169\u001b[0m \u001b[38;5;28;43mself\u001b[39;49m\u001b[38;5;241;43m.\u001b[39;49m\u001b[43mcheck_printable\u001b[49m\u001b[43m(\u001b[49m\u001b[43mdata\u001b[49m\u001b[43m)\u001b[49m\n\u001b[0;32m    170\u001b[0m \u001b[38;5;28mself\u001b[39m\u001b[38;5;241m.\u001b[39mbuffer \u001b[38;5;241m+\u001b[39m\u001b[38;5;241m=\u001b[39m data\n\u001b[0;32m    171\u001b[0m \u001b[38;5;28mself\u001b[39m\u001b[38;5;241m.\u001b[39mraw_buffer \u001b[38;5;241m=\u001b[39m \u001b[38;5;28mself\u001b[39m\u001b[38;5;241m.\u001b[39mraw_buffer[converted:]\n",
      "File \u001b[1;32mC:\\ProgramData\\anaconda3\\envs\\pubMed\\lib\\site-packages\\yaml\\reader.py:143\u001b[0m, in \u001b[0;36mReader.check_printable\u001b[1;34m(self, data)\u001b[0m\n\u001b[0;32m    141\u001b[0m character \u001b[38;5;241m=\u001b[39m match\u001b[38;5;241m.\u001b[39mgroup()\n\u001b[0;32m    142\u001b[0m position \u001b[38;5;241m=\u001b[39m \u001b[38;5;28mself\u001b[39m\u001b[38;5;241m.\u001b[39mindex\u001b[38;5;241m+\u001b[39m(\u001b[38;5;28mlen\u001b[39m(\u001b[38;5;28mself\u001b[39m\u001b[38;5;241m.\u001b[39mbuffer)\u001b[38;5;241m-\u001b[39m\u001b[38;5;28mself\u001b[39m\u001b[38;5;241m.\u001b[39mpointer)\u001b[38;5;241m+\u001b[39mmatch\u001b[38;5;241m.\u001b[39mstart()\n\u001b[1;32m--> 143\u001b[0m \u001b[38;5;28;01mraise\u001b[39;00m ReaderError(\u001b[38;5;28mself\u001b[39m\u001b[38;5;241m.\u001b[39mname, position, \u001b[38;5;28mord\u001b[39m(character),\n\u001b[0;32m    144\u001b[0m         \u001b[38;5;124m'\u001b[39m\u001b[38;5;124municode\u001b[39m\u001b[38;5;124m'\u001b[39m, \u001b[38;5;124m\"\u001b[39m\u001b[38;5;124mspecial characters are not allowed\u001b[39m\u001b[38;5;124m\"\u001b[39m)\n",
      "\u001b[1;31mReaderError\u001b[0m: unacceptable character #x0000: special characters are not allowed\n  in \"environment.yml\", position 3"
     ]
    }
   ],
   "source": [
    "import yaml\n",
    "\n",
    "# Load the environment.yml file\n",
    "with open('environment.yml', 'r') as file:\n",
    "    env = yaml.safe_load(file)\n",
    "\n",
    "# Extract the dependencies\n",
    "dependencies = env['dependencies']\n",
    "\n",
    "# Initialize a list to hold the requirements\n",
    "requirements = []\n",
    "\n",
    "# Process each dependency\n",
    "for dep in dependencies:\n",
    "    if isinstance(dep, str):\n",
    "        # Simple string dependencies can be added directly\n",
    "        requirements.append(dep)\n",
    "    elif isinstance(dep, dict) and 'pip' in dep:\n",
    "        # Pip dependencies are listed inside a dict\n",
    "        requirements.extend(dep['pip'])\n",
    "\n",
    "# Write the requirements to a requirements.txt file\n",
    "with open('requirements.txt', 'w') as file:\n",
    "    for req in requirements:\n",
    "        file.write(f\"{req}\\n\")\n"
   ]
  },
  {
   "cell_type": "code",
   "execution_count": null,
   "id": "4d5e1ad5-7b48-4822-8ce0-611676680a76",
   "metadata": {},
   "outputs": [],
   "source": []
  }
 ],
 "metadata": {
  "kernelspec": {
   "display_name": "Python 3 (ipykernel)",
   "language": "python",
   "name": "python3"
  },
  "language_info": {
   "codemirror_mode": {
    "name": "ipython",
    "version": 3
   },
   "file_extension": ".py",
   "mimetype": "text/x-python",
   "name": "python",
   "nbconvert_exporter": "python",
   "pygments_lexer": "ipython3",
   "version": "3.8.19"
  }
 },
 "nbformat": 4,
 "nbformat_minor": 5
}
